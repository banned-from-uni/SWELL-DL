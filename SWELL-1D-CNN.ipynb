{
  "cells": [
    {
      "cell_type": "markdown",
      "metadata": {
        "id": "view-in-github",
        "colab_type": "text"
      },
      "source": [
        "<a href=\"https://colab.research.google.com/github/banned-from-uni/SWELL-DL/blob/main/SWELL-1D-CNN.ipynb\" target=\"_parent\"><img src=\"https://colab.research.google.com/assets/colab-badge.svg\" alt=\"Open In Colab\"/></a>"
      ]
    },
    {
      "cell_type": "code",
      "execution_count": 1,
      "metadata": {
        "id": "px4WMxfYUQDK"
      },
      "outputs": [],
      "source": [
        "import numpy as np\n",
        "import pandas as pd\n",
        "import seaborn as sns\n",
        "import tensorflow as tf\n",
        "import matplotlib.pyplot as plt"
      ]
    },
    {
      "cell_type": "code",
      "execution_count": 2,
      "metadata": {
        "colab": {
          "base_uri": "https://localhost:8080/"
        },
        "id": "0vJIA94cTyff",
        "outputId": "9f0043de-d6ff-4b55-ec26-47d08911c98a"
      },
      "outputs": [
        {
          "output_type": "stream",
          "name": "stdout",
          "text": [
            "Drive already mounted at /content/drive; to attempt to forcibly remount, call drive.mount(\"/content/drive\", force_remount=True).\n"
          ]
        }
      ],
      "source": [
        "from google.colab import drive\n",
        "drive.mount('/content/drive')"
      ]
    },
    {
      "cell_type": "markdown",
      "source": [
        "## Part 1: Gather & Store Data"
      ],
      "metadata": {
        "id": "nCgplmF3T_9D"
      }
    },
    {
      "cell_type": "code",
      "execution_count": 3,
      "metadata": {
        "id": "-L1DTSNLULIM"
      },
      "outputs": [],
      "source": [
        "train = pd.read_csv('/content/drive/My Drive/SWELL/train.csv').drop('datasetId',axis=1)\n",
        "test = pd.read_csv('/content/drive/My Drive/SWELL/test.csv').drop('datasetId',axis=1)"
      ]
    },
    {
      "cell_type": "markdown",
      "source": [
        "## Part 2: Clean & Organize Data"
      ],
      "metadata": {
        "id": "HJ51-rz6VKTV"
      }
    },
    {
      "cell_type": "code",
      "execution_count": 4,
      "metadata": {
        "id": "6m4DggA8UcwB"
      },
      "outputs": [],
      "source": [
        "swell = pd.concat([train,test], axis=0)\n",
        "swell = swell.reset_index(drop=True)"
      ]
    },
    {
      "cell_type": "markdown",
      "source": [
        "## Part 3: Exploratory Data Analysis"
      ],
      "metadata": {
        "id": "fjHH659rVehY"
      }
    },
    {
      "cell_type": "markdown",
      "source": [
        "### What does the dataset look like?"
      ],
      "metadata": {
        "id": "NVzbZEZDWFHJ"
      }
    },
    {
      "cell_type": "code",
      "source": [
        "swell"
      ],
      "metadata": {
        "colab": {
          "base_uri": "https://localhost:8080/",
          "height": 0
        },
        "id": "FfunKi6nV8QT",
        "outputId": "0365e482-7582-4907-8de1-504d2247bd56"
      },
      "execution_count": 5,
      "outputs": [
        {
          "output_type": "execute_result",
          "data": {
            "text/plain": [
              "            MEAN_RR    MEDIAN_RR        SDRR      RMSSD       SDSD  \\\n",
              "0        885.157845   853.763730  140.972741  15.554505  15.553371   \n",
              "1        939.425371   948.357865   81.317742  12.964439  12.964195   \n",
              "2        898.186047   907.006860   84.497236  16.305279  16.305274   \n",
              "3        881.757865   893.460030   90.370537  15.720468  15.720068   \n",
              "4        809.625331   811.184865   62.766242  19.213819  19.213657   \n",
              "...             ...          ...         ...        ...        ...   \n",
              "410317  1118.406543  1117.857050  113.955632  18.592177  18.592071   \n",
              "410318   855.991173   765.221410  296.763366  20.623727  20.610745   \n",
              "410319   689.388662   663.192770  133.815714  21.699038  21.696138   \n",
              "410320   761.421571   761.064590   60.792671  11.280586  11.280573   \n",
              "410321   868.040461   873.048735   61.301652  11.781442  11.781440   \n",
              "\n",
              "        SDRR_RMSSD         HR      pNN25     pNN50        SD1  ...      LF_NU  \\\n",
              "0         9.063146  69.499952  11.133333  0.533333  11.001565  ...  98.485263   \n",
              "1         6.272369  64.363150   5.600000  0.000000   9.170129  ...  99.695397   \n",
              "2         5.182201  67.450066  13.066667  0.200000  11.533417  ...  98.950472   \n",
              "3         5.748591  68.809562  11.800000  0.133333  11.119476  ...  98.224706   \n",
              "4         3.266724  74.565728  20.200000  0.200000  13.590641  ...  96.720007   \n",
              "...            ...        ...        ...       ...        ...  ...        ...   \n",
              "410317    6.129225  54.234182  18.800000  0.266667  13.150967  ...  99.964170   \n",
              "410318   14.389415  76.416971  15.733333  3.533333  14.578861  ...  91.377081   \n",
              "410319    6.166896  90.254005  13.933333  4.000000  15.346606  ...  89.839595   \n",
              "410320    5.389141  79.313782   2.733333  0.266667   7.979232  ...  93.094387   \n",
              "410321    5.203239  69.484061   3.733333  0.000000   8.333516  ...  98.591934   \n",
              "\n",
              "                HF    HF_PCT      HF_NU           TP        LF_HF     HF_LF  \\\n",
              "0        15.522603  0.421047   1.514737  3686.666157    65.018055  0.015380   \n",
              "1         2.108525  0.070133   0.304603  3006.487251   327.296635  0.003055   \n",
              "2        13.769729  0.512671   1.049528  2685.879461    94.280910  0.010607   \n",
              "3        18.181913  0.529387   1.775294  3434.520980    55.328701  0.018074   \n",
              "4        48.215822  1.839473   3.279993  2621.175204    29.487873  0.033912   \n",
              "...            ...       ...        ...          ...          ...       ...   \n",
              "410317    0.347514  0.006813   0.035830  5100.718213  2789.962965  0.000358   \n",
              "410318  118.014128  1.383097   8.622919  8532.599635    10.597001  0.094366   \n",
              "410319  216.200973  3.559302  10.160405  6074.251632     8.842128  0.113095   \n",
              "410320   41.797177  3.124367   6.905613  1337.780773    13.480973  0.074179   \n",
              "410321    9.748285  0.580832   1.408066  1678.332700    70.019404  0.014282   \n",
              "\n",
              "          sampen    higuci      condition  \n",
              "0       2.139754  1.163485      no stress  \n",
              "1       2.174499  1.084711   interruption  \n",
              "2       2.135350  1.176315   interruption  \n",
              "3       2.178341  1.179688      no stress  \n",
              "4       2.221121  1.249612      no stress  \n",
              "...          ...       ...            ...  \n",
              "410317  2.183460  1.082927  time pressure  \n",
              "410318  1.695327  1.154370   interruption  \n",
              "410319  2.078000  1.214869      no stress  \n",
              "410320  2.191379  1.234546      no stress  \n",
              "410321  2.143131  1.142660  time pressure  \n",
              "\n",
              "[410322 rows x 35 columns]"
            ],
            "text/html": [
              "\n",
              "  <div id=\"df-6021add9-3972-4968-b454-f31c409001d5\">\n",
              "    <div class=\"colab-df-container\">\n",
              "      <div>\n",
              "<style scoped>\n",
              "    .dataframe tbody tr th:only-of-type {\n",
              "        vertical-align: middle;\n",
              "    }\n",
              "\n",
              "    .dataframe tbody tr th {\n",
              "        vertical-align: top;\n",
              "    }\n",
              "\n",
              "    .dataframe thead th {\n",
              "        text-align: right;\n",
              "    }\n",
              "</style>\n",
              "<table border=\"1\" class=\"dataframe\">\n",
              "  <thead>\n",
              "    <tr style=\"text-align: right;\">\n",
              "      <th></th>\n",
              "      <th>MEAN_RR</th>\n",
              "      <th>MEDIAN_RR</th>\n",
              "      <th>SDRR</th>\n",
              "      <th>RMSSD</th>\n",
              "      <th>SDSD</th>\n",
              "      <th>SDRR_RMSSD</th>\n",
              "      <th>HR</th>\n",
              "      <th>pNN25</th>\n",
              "      <th>pNN50</th>\n",
              "      <th>SD1</th>\n",
              "      <th>...</th>\n",
              "      <th>LF_NU</th>\n",
              "      <th>HF</th>\n",
              "      <th>HF_PCT</th>\n",
              "      <th>HF_NU</th>\n",
              "      <th>TP</th>\n",
              "      <th>LF_HF</th>\n",
              "      <th>HF_LF</th>\n",
              "      <th>sampen</th>\n",
              "      <th>higuci</th>\n",
              "      <th>condition</th>\n",
              "    </tr>\n",
              "  </thead>\n",
              "  <tbody>\n",
              "    <tr>\n",
              "      <th>0</th>\n",
              "      <td>885.157845</td>\n",
              "      <td>853.763730</td>\n",
              "      <td>140.972741</td>\n",
              "      <td>15.554505</td>\n",
              "      <td>15.553371</td>\n",
              "      <td>9.063146</td>\n",
              "      <td>69.499952</td>\n",
              "      <td>11.133333</td>\n",
              "      <td>0.533333</td>\n",
              "      <td>11.001565</td>\n",
              "      <td>...</td>\n",
              "      <td>98.485263</td>\n",
              "      <td>15.522603</td>\n",
              "      <td>0.421047</td>\n",
              "      <td>1.514737</td>\n",
              "      <td>3686.666157</td>\n",
              "      <td>65.018055</td>\n",
              "      <td>0.015380</td>\n",
              "      <td>2.139754</td>\n",
              "      <td>1.163485</td>\n",
              "      <td>no stress</td>\n",
              "    </tr>\n",
              "    <tr>\n",
              "      <th>1</th>\n",
              "      <td>939.425371</td>\n",
              "      <td>948.357865</td>\n",
              "      <td>81.317742</td>\n",
              "      <td>12.964439</td>\n",
              "      <td>12.964195</td>\n",
              "      <td>6.272369</td>\n",
              "      <td>64.363150</td>\n",
              "      <td>5.600000</td>\n",
              "      <td>0.000000</td>\n",
              "      <td>9.170129</td>\n",
              "      <td>...</td>\n",
              "      <td>99.695397</td>\n",
              "      <td>2.108525</td>\n",
              "      <td>0.070133</td>\n",
              "      <td>0.304603</td>\n",
              "      <td>3006.487251</td>\n",
              "      <td>327.296635</td>\n",
              "      <td>0.003055</td>\n",
              "      <td>2.174499</td>\n",
              "      <td>1.084711</td>\n",
              "      <td>interruption</td>\n",
              "    </tr>\n",
              "    <tr>\n",
              "      <th>2</th>\n",
              "      <td>898.186047</td>\n",
              "      <td>907.006860</td>\n",
              "      <td>84.497236</td>\n",
              "      <td>16.305279</td>\n",
              "      <td>16.305274</td>\n",
              "      <td>5.182201</td>\n",
              "      <td>67.450066</td>\n",
              "      <td>13.066667</td>\n",
              "      <td>0.200000</td>\n",
              "      <td>11.533417</td>\n",
              "      <td>...</td>\n",
              "      <td>98.950472</td>\n",
              "      <td>13.769729</td>\n",
              "      <td>0.512671</td>\n",
              "      <td>1.049528</td>\n",
              "      <td>2685.879461</td>\n",
              "      <td>94.280910</td>\n",
              "      <td>0.010607</td>\n",
              "      <td>2.135350</td>\n",
              "      <td>1.176315</td>\n",
              "      <td>interruption</td>\n",
              "    </tr>\n",
              "    <tr>\n",
              "      <th>3</th>\n",
              "      <td>881.757865</td>\n",
              "      <td>893.460030</td>\n",
              "      <td>90.370537</td>\n",
              "      <td>15.720468</td>\n",
              "      <td>15.720068</td>\n",
              "      <td>5.748591</td>\n",
              "      <td>68.809562</td>\n",
              "      <td>11.800000</td>\n",
              "      <td>0.133333</td>\n",
              "      <td>11.119476</td>\n",
              "      <td>...</td>\n",
              "      <td>98.224706</td>\n",
              "      <td>18.181913</td>\n",
              "      <td>0.529387</td>\n",
              "      <td>1.775294</td>\n",
              "      <td>3434.520980</td>\n",
              "      <td>55.328701</td>\n",
              "      <td>0.018074</td>\n",
              "      <td>2.178341</td>\n",
              "      <td>1.179688</td>\n",
              "      <td>no stress</td>\n",
              "    </tr>\n",
              "    <tr>\n",
              "      <th>4</th>\n",
              "      <td>809.625331</td>\n",
              "      <td>811.184865</td>\n",
              "      <td>62.766242</td>\n",
              "      <td>19.213819</td>\n",
              "      <td>19.213657</td>\n",
              "      <td>3.266724</td>\n",
              "      <td>74.565728</td>\n",
              "      <td>20.200000</td>\n",
              "      <td>0.200000</td>\n",
              "      <td>13.590641</td>\n",
              "      <td>...</td>\n",
              "      <td>96.720007</td>\n",
              "      <td>48.215822</td>\n",
              "      <td>1.839473</td>\n",
              "      <td>3.279993</td>\n",
              "      <td>2621.175204</td>\n",
              "      <td>29.487873</td>\n",
              "      <td>0.033912</td>\n",
              "      <td>2.221121</td>\n",
              "      <td>1.249612</td>\n",
              "      <td>no stress</td>\n",
              "    </tr>\n",
              "    <tr>\n",
              "      <th>...</th>\n",
              "      <td>...</td>\n",
              "      <td>...</td>\n",
              "      <td>...</td>\n",
              "      <td>...</td>\n",
              "      <td>...</td>\n",
              "      <td>...</td>\n",
              "      <td>...</td>\n",
              "      <td>...</td>\n",
              "      <td>...</td>\n",
              "      <td>...</td>\n",
              "      <td>...</td>\n",
              "      <td>...</td>\n",
              "      <td>...</td>\n",
              "      <td>...</td>\n",
              "      <td>...</td>\n",
              "      <td>...</td>\n",
              "      <td>...</td>\n",
              "      <td>...</td>\n",
              "      <td>...</td>\n",
              "      <td>...</td>\n",
              "      <td>...</td>\n",
              "    </tr>\n",
              "    <tr>\n",
              "      <th>410317</th>\n",
              "      <td>1118.406543</td>\n",
              "      <td>1117.857050</td>\n",
              "      <td>113.955632</td>\n",
              "      <td>18.592177</td>\n",
              "      <td>18.592071</td>\n",
              "      <td>6.129225</td>\n",
              "      <td>54.234182</td>\n",
              "      <td>18.800000</td>\n",
              "      <td>0.266667</td>\n",
              "      <td>13.150967</td>\n",
              "      <td>...</td>\n",
              "      <td>99.964170</td>\n",
              "      <td>0.347514</td>\n",
              "      <td>0.006813</td>\n",
              "      <td>0.035830</td>\n",
              "      <td>5100.718213</td>\n",
              "      <td>2789.962965</td>\n",
              "      <td>0.000358</td>\n",
              "      <td>2.183460</td>\n",
              "      <td>1.082927</td>\n",
              "      <td>time pressure</td>\n",
              "    </tr>\n",
              "    <tr>\n",
              "      <th>410318</th>\n",
              "      <td>855.991173</td>\n",
              "      <td>765.221410</td>\n",
              "      <td>296.763366</td>\n",
              "      <td>20.623727</td>\n",
              "      <td>20.610745</td>\n",
              "      <td>14.389415</td>\n",
              "      <td>76.416971</td>\n",
              "      <td>15.733333</td>\n",
              "      <td>3.533333</td>\n",
              "      <td>14.578861</td>\n",
              "      <td>...</td>\n",
              "      <td>91.377081</td>\n",
              "      <td>118.014128</td>\n",
              "      <td>1.383097</td>\n",
              "      <td>8.622919</td>\n",
              "      <td>8532.599635</td>\n",
              "      <td>10.597001</td>\n",
              "      <td>0.094366</td>\n",
              "      <td>1.695327</td>\n",
              "      <td>1.154370</td>\n",
              "      <td>interruption</td>\n",
              "    </tr>\n",
              "    <tr>\n",
              "      <th>410319</th>\n",
              "      <td>689.388662</td>\n",
              "      <td>663.192770</td>\n",
              "      <td>133.815714</td>\n",
              "      <td>21.699038</td>\n",
              "      <td>21.696138</td>\n",
              "      <td>6.166896</td>\n",
              "      <td>90.254005</td>\n",
              "      <td>13.933333</td>\n",
              "      <td>4.000000</td>\n",
              "      <td>15.346606</td>\n",
              "      <td>...</td>\n",
              "      <td>89.839595</td>\n",
              "      <td>216.200973</td>\n",
              "      <td>3.559302</td>\n",
              "      <td>10.160405</td>\n",
              "      <td>6074.251632</td>\n",
              "      <td>8.842128</td>\n",
              "      <td>0.113095</td>\n",
              "      <td>2.078000</td>\n",
              "      <td>1.214869</td>\n",
              "      <td>no stress</td>\n",
              "    </tr>\n",
              "    <tr>\n",
              "      <th>410320</th>\n",
              "      <td>761.421571</td>\n",
              "      <td>761.064590</td>\n",
              "      <td>60.792671</td>\n",
              "      <td>11.280586</td>\n",
              "      <td>11.280573</td>\n",
              "      <td>5.389141</td>\n",
              "      <td>79.313782</td>\n",
              "      <td>2.733333</td>\n",
              "      <td>0.266667</td>\n",
              "      <td>7.979232</td>\n",
              "      <td>...</td>\n",
              "      <td>93.094387</td>\n",
              "      <td>41.797177</td>\n",
              "      <td>3.124367</td>\n",
              "      <td>6.905613</td>\n",
              "      <td>1337.780773</td>\n",
              "      <td>13.480973</td>\n",
              "      <td>0.074179</td>\n",
              "      <td>2.191379</td>\n",
              "      <td>1.234546</td>\n",
              "      <td>no stress</td>\n",
              "    </tr>\n",
              "    <tr>\n",
              "      <th>410321</th>\n",
              "      <td>868.040461</td>\n",
              "      <td>873.048735</td>\n",
              "      <td>61.301652</td>\n",
              "      <td>11.781442</td>\n",
              "      <td>11.781440</td>\n",
              "      <td>5.203239</td>\n",
              "      <td>69.484061</td>\n",
              "      <td>3.733333</td>\n",
              "      <td>0.000000</td>\n",
              "      <td>8.333516</td>\n",
              "      <td>...</td>\n",
              "      <td>98.591934</td>\n",
              "      <td>9.748285</td>\n",
              "      <td>0.580832</td>\n",
              "      <td>1.408066</td>\n",
              "      <td>1678.332700</td>\n",
              "      <td>70.019404</td>\n",
              "      <td>0.014282</td>\n",
              "      <td>2.143131</td>\n",
              "      <td>1.142660</td>\n",
              "      <td>time pressure</td>\n",
              "    </tr>\n",
              "  </tbody>\n",
              "</table>\n",
              "<p>410322 rows × 35 columns</p>\n",
              "</div>\n",
              "      <button class=\"colab-df-convert\" onclick=\"convertToInteractive('df-6021add9-3972-4968-b454-f31c409001d5')\"\n",
              "              title=\"Convert this dataframe to an interactive table.\"\n",
              "              style=\"display:none;\">\n",
              "        \n",
              "  <svg xmlns=\"http://www.w3.org/2000/svg\" height=\"24px\"viewBox=\"0 0 24 24\"\n",
              "       width=\"24px\">\n",
              "    <path d=\"M0 0h24v24H0V0z\" fill=\"none\"/>\n",
              "    <path d=\"M18.56 5.44l.94 2.06.94-2.06 2.06-.94-2.06-.94-.94-2.06-.94 2.06-2.06.94zm-11 1L8.5 8.5l.94-2.06 2.06-.94-2.06-.94L8.5 2.5l-.94 2.06-2.06.94zm10 10l.94 2.06.94-2.06 2.06-.94-2.06-.94-.94-2.06-.94 2.06-2.06.94z\"/><path d=\"M17.41 7.96l-1.37-1.37c-.4-.4-.92-.59-1.43-.59-.52 0-1.04.2-1.43.59L10.3 9.45l-7.72 7.72c-.78.78-.78 2.05 0 2.83L4 21.41c.39.39.9.59 1.41.59.51 0 1.02-.2 1.41-.59l7.78-7.78 2.81-2.81c.8-.78.8-2.07 0-2.86zM5.41 20L4 18.59l7.72-7.72 1.47 1.35L5.41 20z\"/>\n",
              "  </svg>\n",
              "      </button>\n",
              "      \n",
              "  <style>\n",
              "    .colab-df-container {\n",
              "      display:flex;\n",
              "      flex-wrap:wrap;\n",
              "      gap: 12px;\n",
              "    }\n",
              "\n",
              "    .colab-df-convert {\n",
              "      background-color: #E8F0FE;\n",
              "      border: none;\n",
              "      border-radius: 50%;\n",
              "      cursor: pointer;\n",
              "      display: none;\n",
              "      fill: #1967D2;\n",
              "      height: 32px;\n",
              "      padding: 0 0 0 0;\n",
              "      width: 32px;\n",
              "    }\n",
              "\n",
              "    .colab-df-convert:hover {\n",
              "      background-color: #E2EBFA;\n",
              "      box-shadow: 0px 1px 2px rgba(60, 64, 67, 0.3), 0px 1px 3px 1px rgba(60, 64, 67, 0.15);\n",
              "      fill: #174EA6;\n",
              "    }\n",
              "\n",
              "    [theme=dark] .colab-df-convert {\n",
              "      background-color: #3B4455;\n",
              "      fill: #D2E3FC;\n",
              "    }\n",
              "\n",
              "    [theme=dark] .colab-df-convert:hover {\n",
              "      background-color: #434B5C;\n",
              "      box-shadow: 0px 1px 3px 1px rgba(0, 0, 0, 0.15);\n",
              "      filter: drop-shadow(0px 1px 2px rgba(0, 0, 0, 0.3));\n",
              "      fill: #FFFFFF;\n",
              "    }\n",
              "  </style>\n",
              "\n",
              "      <script>\n",
              "        const buttonEl =\n",
              "          document.querySelector('#df-6021add9-3972-4968-b454-f31c409001d5 button.colab-df-convert');\n",
              "        buttonEl.style.display =\n",
              "          google.colab.kernel.accessAllowed ? 'block' : 'none';\n",
              "\n",
              "        async function convertToInteractive(key) {\n",
              "          const element = document.querySelector('#df-6021add9-3972-4968-b454-f31c409001d5');\n",
              "          const dataTable =\n",
              "            await google.colab.kernel.invokeFunction('convertToInteractive',\n",
              "                                                     [key], {});\n",
              "          if (!dataTable) return;\n",
              "\n",
              "          const docLinkHtml = 'Like what you see? Visit the ' +\n",
              "            '<a target=\"_blank\" href=https://colab.research.google.com/notebooks/data_table.ipynb>data table notebook</a>'\n",
              "            + ' to learn more about interactive tables.';\n",
              "          element.innerHTML = '';\n",
              "          dataTable['output_type'] = 'display_data';\n",
              "          await google.colab.output.renderOutput(dataTable, element);\n",
              "          const docLink = document.createElement('div');\n",
              "          docLink.innerHTML = docLinkHtml;\n",
              "          element.appendChild(docLink);\n",
              "        }\n",
              "      </script>\n",
              "    </div>\n",
              "  </div>\n",
              "  "
            ]
          },
          "metadata": {},
          "execution_count": 5
        }
      ]
    },
    {
      "cell_type": "markdown",
      "source": [
        "### How are the labels distributed?"
      ],
      "metadata": {
        "id": "0iHSyuGNWIEe"
      }
    },
    {
      "cell_type": "code",
      "source": [
        "sns.countplot(data=swell,x='condition');"
      ],
      "metadata": {
        "colab": {
          "base_uri": "https://localhost:8080/",
          "height": 0
        },
        "id": "q_4tkjbNVgzK",
        "outputId": "3fd5302f-6d44-4d55-bdaf-9d9b2c16603d"
      },
      "execution_count": 6,
      "outputs": [
        {
          "output_type": "display_data",
          "data": {
            "text/plain": [
              "<Figure size 432x288 with 1 Axes>"
            ],
            "image/png": "[encoded data removed]"
          },
          "metadata": {
            "needs_background": "light"
          }
        }
      ]
    },
    {
      "cell_type": "markdown",
      "source": [
        "### Why does the 'no stress' *condition* have a higher *heart rate* than the stress *conditions*?"
      ],
      "metadata": {
        "id": "hHfPgJUJW8-V"
      }
    },
    {
      "cell_type": "code",
      "source": [
        "sns.boxplot(data=swell,x='condition',y='HR');"
      ],
      "metadata": {
        "colab": {
          "base_uri": "https://localhost:8080/",
          "height": 0
        },
        "id": "NHQKo6gUW_yH",
        "outputId": "8c5e5056-c257-46bf-bf5e-c86dc55f2b64"
      },
      "execution_count": 7,
      "outputs": [
        {
          "output_type": "display_data",
          "data": {
            "text/plain": [
              "<Figure size 432x288 with 1 Axes>"
            ],
            "image/png": "[encoded data removed]"
          },
          "metadata": {
            "needs_background": "light"
          }
        }
      ]
    },
    {
      "cell_type": "markdown",
      "source": [
        "### How are the variables correlated?"
      ],
      "metadata": {
        "id": "B2fHzHgIcxqt"
      }
    },
    {
      "cell_type": "code",
      "source": [
        "plt.figure(figsize=(12, 8))\n",
        "\n",
        "sns.heatmap(\n",
        "swell.corr(),\n",
        "vmin=-1, vmax=1, center=0,\n",
        "cmap=sns.diverging_palette(50, 500, n=500),\n",
        "square=True\n",
        ");"
      ],
      "metadata": {
        "colab": {
          "base_uri": "https://localhost:8080/",
          "height": 0
        },
        "id": "EV4zs1stcwDz",
        "outputId": "1a2b2869-4772-48a1-fbb9-aeb0569bca4d"
      },
      "execution_count": 8,
      "outputs": [
        {
          "output_type": "display_data",
          "data": {
            "text/plain": [
              "<Figure size 864x576 with 2 Axes>"
            ],
            "image/png": "[encoded data removed]"
          },
          "metadata": {
            "needs_background": "light"
          }
        }
      ]
    },
    {
      "cell_type": "markdown",
      "source": [
        "## Part 4: Machine Learning"
      ],
      "metadata": {
        "id": "upjsWEsMYJg-"
      }
    },
    {
      "cell_type": "markdown",
      "source": [
        "### Feature Selection"
      ],
      "metadata": {
        "id": "9lgl0bED3cKy"
      }
    },
    {
      "cell_type": "code",
      "execution_count": 9,
      "metadata": {
        "id": "nicEnXJ3wdeX"
      },
      "outputs": [],
      "source": [
        "X = swell.drop('condition',axis=1).to_numpy()\n",
        "y = swell['condition']"
      ]
    },
    {
      "cell_type": "code",
      "execution_count": 10,
      "metadata": {
        "id": "YVIc-y0rGIta",
        "colab": {
          "base_uri": "https://localhost:8080/"
        },
        "outputId": "54671c96-56c2-41bc-ce52-d7ef22f679c1"
      },
      "outputs": [
        {
          "output_type": "stream",
          "name": "stdout",
          "text": [
            "['no stress' 'interruption' 'time pressure']\n",
            "[0 1 2]\n"
          ]
        }
      ],
      "source": [
        "from sklearn.preprocessing import LabelEncoder\n",
        "\n",
        "encoder = LabelEncoder()\n",
        "print(y.unique())\n",
        "y = encoder.fit_transform(y)\n",
        "print(np.unique(y))"
      ]
    },
    {
      "cell_type": "code",
      "source": [
        "print(type(X))\n",
        "print(type(y))"
      ],
      "metadata": {
        "colab": {
          "base_uri": "https://localhost:8080/"
        },
        "id": "G6mScQ7WZUtx",
        "outputId": "7f65f6be-9366-4888-f228-d199d92ead4e"
      },
      "execution_count": 11,
      "outputs": [
        {
          "output_type": "stream",
          "name": "stdout",
          "text": [
            "<class 'numpy.ndarray'>\n",
            "<class 'numpy.ndarray'>\n"
          ]
        }
      ]
    },
    {
      "cell_type": "code",
      "source": [
        "print(X.shape)\n",
        "print(y.shape)"
      ],
      "metadata": {
        "colab": {
          "base_uri": "https://localhost:8080/"
        },
        "id": "IUGQEpWOZe_o",
        "outputId": "d87f9304-98bf-4aae-dd0e-104428926032"
      },
      "execution_count": 12,
      "outputs": [
        {
          "output_type": "stream",
          "name": "stdout",
          "text": [
            "(410322, 34)\n",
            "(410322,)\n"
          ]
        }
      ]
    },
    {
      "cell_type": "code",
      "execution_count": 13,
      "metadata": {
        "id": "nnmuZLR9mbV5"
      },
      "outputs": [],
      "source": [
        "from sklearn.model_selection import train_test_split\n",
        "X_train, X_test, y_train, y_test=train_test_split(X, y, test_size=0.20, random_state=101)"
      ]
    },
    {
      "cell_type": "code",
      "source": [
        "from sklearn.feature_selection import SelectKBest, f_classif\n",
        "best_features = SelectKBest(score_func=f_classif)\n",
        "best_features.fit_transform(X_train, y_train)"
      ],
      "metadata": {
        "id": "fY1QRcUHzTqy",
        "colab": {
          "base_uri": "https://localhost:8080/"
        },
        "outputId": "0f7098eb-a247-4dba-e950-e6a2a245a888"
      },
      "execution_count": 14,
      "outputs": [
        {
          "output_type": "execute_result",
          "data": {
            "text/plain": [
              "array([[ 973.06157957,  846.926255  ,   14.58269343, ..., 3654.56133348,\n",
              "          81.32772655,  816.82074339],\n",
              "       [ 921.1755808 ,  861.101565  ,   14.15899927, ..., 1429.71088907,\n",
              "          62.90027791,  834.50497605],\n",
              "       [ 812.77586422,  812.742645  ,   14.36159637, ...,  486.3619201 ,\n",
              "          43.99496077,  563.27301469],\n",
              "       ...,\n",
              "       [ 800.61430917,  804.241965  ,   12.27222442, ..., 1695.71786535,\n",
              "          72.5014297 ,  622.8735223 ],\n",
              "       [ 807.25413643,  809.24277   ,   19.18883663, ..., 1133.85748765,\n",
              "          43.51562567, 1419.30698835],\n",
              "       [ 851.97274913,  858.354115  ,   11.02482941, ...,  920.77325673,\n",
              "          61.11719693,  573.84606358]])"
            ]
          },
          "metadata": {},
          "execution_count": 14
        }
      ]
    },
    {
      "cell_type": "code",
      "source": [
        "anova = pd.Series(data=best_features.scores_,index=swell.columns[:-1])\n",
        "anova = anova.sort_values(ascending=False)"
      ],
      "metadata": {
        "id": "w5jVWNDtCHd0"
      },
      "execution_count": 15,
      "outputs": []
    },
    {
      "cell_type": "code",
      "source": [
        "plt.figure(figsize=(12, 8))\n",
        "plt.xlabel(\"features\")\n",
        "plt.ylabel(\"feature importance\")\n",
        "anova.plot.bar();"
      ],
      "metadata": {
        "colab": {
          "base_uri": "https://localhost:8080/",
          "height": 598
        },
        "id": "sbQReRAFAAO0",
        "outputId": "c188b03d-b4ed-4d86-a16b-4064874d464d"
      },
      "execution_count": 16,
      "outputs": [
        {
          "output_type": "display_data",
          "data": {
            "text/plain": [
              "<Figure size 864x576 with 1 Axes>"
            ],
            "image/png": "[encoded data removed]"
          },
          "metadata": {
            "needs_background": "light"
          }
        }
      ]
    },
    {
      "cell_type": "markdown",
      "source": [
        "### 1D CNN"
      ],
      "metadata": {
        "id": "GU2a04HKHSUi"
      }
    },
    {
      "cell_type": "code",
      "execution_count": 17,
      "metadata": {
        "id": "UaFy1uHoHcYN"
      },
      "outputs": [],
      "source": [
        "from tensorflow.keras.callbacks import EarlyStopping\n",
        "early_stop = EarlyStopping(monitor='accuracy', mode='max', verbose=1, patience=10)"
      ]
    },
    {
      "cell_type": "code",
      "execution_count": 18,
      "metadata": {
        "id": "piHckfSqmoJJ"
      },
      "outputs": [],
      "source": [
        "from tensorflow.keras.models import Sequential\n",
        "from tensorflow.keras.layers import Dense, Conv1D, Flatten, MaxPooling1D\n",
        "\n",
        "def create_model():\n",
        "  model = Sequential()\n",
        "  model.add(Conv1D(filters=64, kernel_size=2, activation=\"relu\", padding=\"same\"))\n",
        "  model.add(Dense(16, activation=\"relu\"))\n",
        "  model.add(MaxPooling1D())\n",
        "  model.add(Flatten())\n",
        "  model.add(Dense(3, activation = 'softmax'))\n",
        "\n",
        "  model.compile(loss = 'sparse_categorical_crossentropy',\n",
        "                optimizer = \"adam\",\n",
        "                metrics = ['accuracy'])\n",
        "\n",
        "  return model"
      ]
    },
    {
      "cell_type": "code",
      "execution_count": 19,
      "metadata": {
        "colab": {
          "base_uri": "https://localhost:8080/"
        },
        "id": "__kmE8IzH8-E",
        "outputId": "1fcd3d5f-61a0-4618-b3df-0082af7f9e4c"
      },
      "outputs": [
        {
          "output_type": "stream",
          "name": "stdout",
          "text": [
            "2 top features\n",
            "5130/5130 [==============================] - 15s 3ms/step - loss: 0.9228 - accuracy: 0.5537 - val_loss: 0.8927 - val_accuracy: 0.5512\n",
            "10259/10259 [==============================] - 14s 1ms/step - loss: 0.8943 - accuracy: 0.5509\n"
          ]
        }
      ],
      "source": [
        "cms = []\n",
        "losses = []\n",
        "histories = []\n",
        "accuracies = []\n",
        "reports = []\n",
        "predictions = []\n",
        "\n",
        "from sklearn.preprocessing import LabelEncoder\n",
        "from sklearn.preprocessing import MinMaxScaler\n",
        "from sklearn.metrics import confusion_matrix\n",
        "from sklearn.metrics import classification_report\n",
        "\n",
        "for i in range(2,len(anova.index)+1):\n",
        "  print(i,'top features')\n",
        "\n",
        "  X = swell[anova.index[:i]].to_numpy()\n",
        "  y = swell['condition']\n",
        "\n",
        "  encoder = LabelEncoder()\n",
        "  y = encoder.fit_transform(y)\n",
        "\n",
        "  X_train, X_test, y_train, y_test=train_test_split(X, y, test_size=0.20, random_state=101)\n",
        "\n",
        "  scaler = MinMaxScaler()\n",
        "  X_train = scaler.fit_transform(X_train)\n",
        "  X_test = scaler.transform(X_test)\n",
        "\n",
        "  X_train = X_train.reshape(X_train.shape[0], X_train.shape[1], 1)\n",
        "  X_test = X_test.reshape(X_test.shape[0], X_test.shape[1], 1)\n",
        "\n",
        "  with tf.device('/CPU:0'):\n",
        "    model = create_model()\n",
        "    history = model.fit(X_train, y_train, batch_size=64,\n",
        "              epochs=600, verbose = 1,\n",
        "              validation_data=(X_test, y_test),\n",
        "              callbacks = [early_stop])\n",
        "  \n",
        "  loss, accuracy = model.evaluate(X_train, y_train)\n",
        "  losses.append(loss)\n",
        "  accuracies.append(accuracy)\n",
        "\n",
        "  histories.append(pd.DataFrame(history.history))\n",
        "  \n",
        "  pred = model.predict(X_test)\n",
        "  pred_y = pred.argmax(axis=-1)\n",
        "  cm = confusion_matrix(y_test, pred_y)\n",
        "  cms.append(cm)\n",
        "\n",
        "  reports.append(classification_report(y_test, pred_y))\n",
        "\n",
        "  pred = model.predict(X_test[:30])\n",
        "  pred_y = pred.argmax(axis=-1)\n",
        "  predictions.append(pred_y)"
      ]
    },
    {
      "cell_type": "code",
      "source": [
        "for count,accuracy in enumerate(accuracies):\n",
        "  print(count,accuracy)"
      ],
      "metadata": {
        "colab": {
          "base_uri": "https://localhost:8080/"
        },
        "id": "XryfN1STMavG",
        "outputId": "25b80d61-704b-49f1-b8b3-61370eaff937"
      },
      "execution_count": 28,
      "outputs": [
        {
          "output_type": "stream",
          "name": "stdout",
          "text": [
            "0 0.5508549809455872\n"
          ]
        }
      ]
    },
    {
      "cell_type": "code",
      "source": [
        "print(cms[0])"
      ],
      "metadata": {
        "colab": {
          "base_uri": "https://localhost:8080/"
        },
        "id": "vBRvEbBxMSF8",
        "outputId": "45add8c5-3fee-4526-cb0c-5365bf248e1d"
      },
      "execution_count": 20,
      "outputs": [
        {
          "output_type": "stream",
          "name": "stdout",
          "text": [
            "[[    8 19395  3846]\n",
            " [   16 41763  2716]\n",
            " [    8 10847  3466]]\n"
          ]
        }
      ]
    },
    {
      "cell_type": "code",
      "source": [
        "losses[0]"
      ],
      "metadata": {
        "colab": {
          "base_uri": "https://localhost:8080/"
        },
        "id": "ufsItx2HMU-R",
        "outputId": "224f4270-b940-4c58-aac4-08bf515c3cb8"
      },
      "execution_count": 21,
      "outputs": [
        {
          "output_type": "execute_result",
          "data": {
            "text/plain": [
              "0.8942715525627136"
            ]
          },
          "metadata": {},
          "execution_count": 21
        }
      ]
    },
    {
      "cell_type": "code",
      "source": [
        "histories[0]"
      ],
      "metadata": {
        "colab": {
          "base_uri": "https://localhost:8080/",
          "height": 81
        },
        "id": "VhpmrEBGMYU1",
        "outputId": "32f1fb7f-b699-4661-8505-afe1ce9e79b0"
      },
      "execution_count": 22,
      "outputs": [
        {
          "output_type": "execute_result",
          "data": {
            "text/plain": [
              "      loss  accuracy  val_loss  val_accuracy\n",
              "0  0.92278  0.553658  0.892705      0.551234"
            ],
            "text/html": [
              "\n",
              "  <div id=\"df-e360390e-4399-49c5-90b5-e832b1ef271a\">\n",
              "    <div class=\"colab-df-container\">\n",
              "      <div>\n",
              "<style scoped>\n",
              "    .dataframe tbody tr th:only-of-type {\n",
              "        vertical-align: middle;\n",
              "    }\n",
              "\n",
              "    .dataframe tbody tr th {\n",
              "        vertical-align: top;\n",
              "    }\n",
              "\n",
              "    .dataframe thead th {\n",
              "        text-align: right;\n",
              "    }\n",
              "</style>\n",
              "<table border=\"1\" class=\"dataframe\">\n",
              "  <thead>\n",
              "    <tr style=\"text-align: right;\">\n",
              "      <th></th>\n",
              "      <th>loss</th>\n",
              "      <th>accuracy</th>\n",
              "      <th>val_loss</th>\n",
              "      <th>val_accuracy</th>\n",
              "    </tr>\n",
              "  </thead>\n",
              "  <tbody>\n",
              "    <tr>\n",
              "      <th>0</th>\n",
              "      <td>0.92278</td>\n",
              "      <td>0.553658</td>\n",
              "      <td>0.892705</td>\n",
              "      <td>0.551234</td>\n",
              "    </tr>\n",
              "  </tbody>\n",
              "</table>\n",
              "</div>\n",
              "      <button class=\"colab-df-convert\" onclick=\"convertToInteractive('df-e360390e-4399-49c5-90b5-e832b1ef271a')\"\n",
              "              title=\"Convert this dataframe to an interactive table.\"\n",
              "              style=\"display:none;\">\n",
              "        \n",
              "  <svg xmlns=\"http://www.w3.org/2000/svg\" height=\"24px\"viewBox=\"0 0 24 24\"\n",
              "       width=\"24px\">\n",
              "    <path d=\"M0 0h24v24H0V0z\" fill=\"none\"/>\n",
              "    <path d=\"M18.56 5.44l.94 2.06.94-2.06 2.06-.94-2.06-.94-.94-2.06-.94 2.06-2.06.94zm-11 1L8.5 8.5l.94-2.06 2.06-.94-2.06-.94L8.5 2.5l-.94 2.06-2.06.94zm10 10l.94 2.06.94-2.06 2.06-.94-2.06-.94-.94-2.06-.94 2.06-2.06.94z\"/><path d=\"M17.41 7.96l-1.37-1.37c-.4-.4-.92-.59-1.43-.59-.52 0-1.04.2-1.43.59L10.3 9.45l-7.72 7.72c-.78.78-.78 2.05 0 2.83L4 21.41c.39.39.9.59 1.41.59.51 0 1.02-.2 1.41-.59l7.78-7.78 2.81-2.81c.8-.78.8-2.07 0-2.86zM5.41 20L4 18.59l7.72-7.72 1.47 1.35L5.41 20z\"/>\n",
              "  </svg>\n",
              "      </button>\n",
              "      \n",
              "  <style>\n",
              "    .colab-df-container {\n",
              "      display:flex;\n",
              "      flex-wrap:wrap;\n",
              "      gap: 12px;\n",
              "    }\n",
              "\n",
              "    .colab-df-convert {\n",
              "      background-color: #E8F0FE;\n",
              "      border: none;\n",
              "      border-radius: 50%;\n",
              "      cursor: pointer;\n",
              "      display: none;\n",
              "      fill: #1967D2;\n",
              "      height: 32px;\n",
              "      padding: 0 0 0 0;\n",
              "      width: 32px;\n",
              "    }\n",
              "\n",
              "    .colab-df-convert:hover {\n",
              "      background-color: #E2EBFA;\n",
              "      box-shadow: 0px 1px 2px rgba(60, 64, 67, 0.3), 0px 1px 3px 1px rgba(60, 64, 67, 0.15);\n",
              "      fill: #174EA6;\n",
              "    }\n",
              "\n",
              "    [theme=dark] .colab-df-convert {\n",
              "      background-color: #3B4455;\n",
              "      fill: #D2E3FC;\n",
              "    }\n",
              "\n",
              "    [theme=dark] .colab-df-convert:hover {\n",
              "      background-color: #434B5C;\n",
              "      box-shadow: 0px 1px 3px 1px rgba(0, 0, 0, 0.15);\n",
              "      filter: drop-shadow(0px 1px 2px rgba(0, 0, 0, 0.3));\n",
              "      fill: #FFFFFF;\n",
              "    }\n",
              "  </style>\n",
              "\n",
              "      <script>\n",
              "        const buttonEl =\n",
              "          document.querySelector('#df-e360390e-4399-49c5-90b5-e832b1ef271a button.colab-df-convert');\n",
              "        buttonEl.style.display =\n",
              "          google.colab.kernel.accessAllowed ? 'block' : 'none';\n",
              "\n",
              "        async function convertToInteractive(key) {\n",
              "          const element = document.querySelector('#df-e360390e-4399-49c5-90b5-e832b1ef271a');\n",
              "          const dataTable =\n",
              "            await google.colab.kernel.invokeFunction('convertToInteractive',\n",
              "                                                     [key], {});\n",
              "          if (!dataTable) return;\n",
              "\n",
              "          const docLinkHtml = 'Like what you see? Visit the ' +\n",
              "            '<a target=\"_blank\" href=https://colab.research.google.com/notebooks/data_table.ipynb>data table notebook</a>'\n",
              "            + ' to learn more about interactive tables.';\n",
              "          element.innerHTML = '';\n",
              "          dataTable['output_type'] = 'display_data';\n",
              "          await google.colab.output.renderOutput(dataTable, element);\n",
              "          const docLink = document.createElement('div');\n",
              "          docLink.innerHTML = docLinkHtml;\n",
              "          element.appendChild(docLink);\n",
              "        }\n",
              "      </script>\n",
              "    </div>\n",
              "  </div>\n",
              "  "
            ]
          },
          "metadata": {},
          "execution_count": 22
        }
      ]
    },
    {
      "cell_type": "code",
      "source": [
        "print(reports[0])"
      ],
      "metadata": {
        "colab": {
          "base_uri": "https://localhost:8080/"
        },
        "id": "Yb7UIHsBMd4K",
        "outputId": "fb023c76-bd5c-4bcd-dc37-9186836a490e"
      },
      "execution_count": 24,
      "outputs": [
        {
          "output_type": "stream",
          "name": "stdout",
          "text": [
            "              precision    recall  f1-score   support\n",
            "\n",
            "           0       0.25      0.00      0.00     23249\n",
            "           1       0.58      0.94      0.72     44495\n",
            "           2       0.35      0.24      0.28     14321\n",
            "\n",
            "    accuracy                           0.55     82065\n",
            "   macro avg       0.39      0.39      0.33     82065\n",
            "weighted avg       0.45      0.55      0.44     82065\n",
            "\n"
          ]
        }
      ]
    },
    {
      "cell_type": "code",
      "source": [
        "print(predictions[0])"
      ],
      "metadata": {
        "colab": {
          "base_uri": "https://localhost:8080/"
        },
        "id": "egGKRSY9MnUY",
        "outputId": "f71a1602-fb08-49ed-dcd8-1376b7ff6e77"
      },
      "execution_count": 25,
      "outputs": [
        {
          "output_type": "stream",
          "name": "stdout",
          "text": [
            "[1 1 1 2 1 1 1 1 1 1 2 1 2 1 1 1 1 1 1 1 1 1 1 1 1 1 2 1 1 1]\n"
          ]
        }
      ]
    },
    {
      "cell_type": "code",
      "source": [
        "model.summary()"
      ],
      "metadata": {
        "id": "Jg1rNbC0T4rp",
        "colab": {
          "base_uri": "https://localhost:8080/"
        },
        "outputId": "55dbe6bf-6f77-44bd-a233-fde21094a826"
      },
      "execution_count": 26,
      "outputs": [
        {
          "output_type": "stream",
          "name": "stdout",
          "text": [
            "Model: \"sequential\"\n",
            "_________________________________________________________________\n",
            " Layer (type)                Output Shape              Param #   \n",
            "=================================================================\n",
            " conv1d (Conv1D)             (None, 2, 64)             192       \n",
            "                                                                 \n",
            " dense (Dense)               (None, 2, 16)             1040      \n",
            "                                                                 \n",
            " max_pooling1d (MaxPooling1D  (None, 1, 16)            0         \n",
            " )                                                               \n",
            "                                                                 \n",
            " flatten (Flatten)           (None, 16)                0         \n",
            "                                                                 \n",
            " dense_1 (Dense)             (None, 3)                 51        \n",
            "                                                                 \n",
            "=================================================================\n",
            "Total params: 1,283\n",
            "Trainable params: 1,283\n",
            "Non-trainable params: 0\n",
            "_________________________________________________________________\n"
          ]
        }
      ]
    }
  ],
  "metadata": {
    "colab": {
      "collapsed_sections": [
        "nCgplmF3T_9D",
        "HJ51-rz6VKTV",
        "fjHH659rVehY",
        "upjsWEsMYJg-"
      ],
      "name": "SWELL-1D-CNN.ipynb",
      "provenance": [],
      "include_colab_link": true
    },
    "kernelspec": {
      "display_name": "Python 3 (ipykernel)",
      "language": "python",
      "name": "python3"
    },
    "language_info": {
      "codemirror_mode": {
        "name": "ipython",
        "version": 3
      },
      "file_extension": ".py",
      "mimetype": "text/x-python",
      "name": "python",
      "nbconvert_exporter": "python",
      "pygments_lexer": "ipython3",
      "version": "3.10.2"
    }
  },
  "nbformat": 4,
  "nbformat_minor": 0
}