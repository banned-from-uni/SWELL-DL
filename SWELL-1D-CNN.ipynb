{
  "cells": [
    {
      "cell_type": "markdown",
      "metadata": {
        "id": "view-in-github",
        "colab_type": "text"
      },
      "source": [
        "<a href=\"https://colab.research.google.com/github/banned-from-uni/SWELL-DL/blob/main/SWELL-1D-CNN.ipynb\" target=\"_parent\"><img src=\"https://colab.research.google.com/assets/colab-badge.svg\" alt=\"Open In Colab\"/></a>"
      ]
    },
    {
      "cell_type": "code",
      "execution_count": null,
      "metadata": {
        "id": "px4WMxfYUQDK"
      },
      "outputs": [],
      "source": [
        "import numpy as np\n",
        "import pandas as pd\n",
        "import seaborn as sns\n",
        "import tensorflow as tf\n",
        "import matplotlib.pyplot as plt"
      ]
    },
    {
      "cell_type": "code",
      "execution_count": null,
      "metadata": {
        "colab": {
          "base_uri": "https://localhost:8080/"
        },
        "id": "0vJIA94cTyff",
        "outputId": "6377ed80-ab61-452b-ca38-27b98ba2ac8e"
      },
      "outputs": [
        {
          "output_type": "stream",
          "name": "stdout",
          "text": [
            "Drive already mounted at /content/drive; to attempt to forcibly remount, call drive.mount(\"/content/drive\", force_remount=True).\n"
          ]
        }
      ],
      "source": [
        "from google.colab import drive\n",
        "drive.mount('/content/drive')"
      ]
    },
    {
      "cell_type": "markdown",
      "source": [
        "## Part 1: Gather & Store Data"
      ],
      "metadata": {
        "id": "nCgplmF3T_9D"
      }
    },
    {
      "cell_type": "code",
      "execution_count": null,
      "metadata": {
        "id": "-L1DTSNLULIM"
      },
      "outputs": [],
      "source": [
        "train = pd.read_csv('/content/drive/My Drive/SWELL/train.csv').drop('datasetId',axis=1)\n",
        "test = pd.read_csv('/content/drive/My Drive/SWELL/test.csv').drop('datasetId',axis=1)"
      ]
    },
    {
      "cell_type": "markdown",
      "source": [
        "## Part 2: Clean & Organize Data"
      ],
      "metadata": {
        "id": "HJ51-rz6VKTV"
      }
    },
    {
      "cell_type": "code",
      "execution_count": null,
      "metadata": {
        "id": "6m4DggA8UcwB"
      },
      "outputs": [],
      "source": [
        "swell = pd.concat([train,test], axis=0)"
      ]
    },
    {
      "cell_type": "markdown",
      "source": [
        "## Part 3: Exploratory Data Analysis"
      ],
      "metadata": {
        "id": "fjHH659rVehY"
      }
    },
    {
      "cell_type": "markdown",
      "source": [
        "### What does the dataset look like?"
      ],
      "metadata": {
        "id": "NVzbZEZDWFHJ"
      }
    },
    {
      "cell_type": "code",
      "source": [
        "swell"
      ],
      "metadata": {
        "colab": {
          "base_uri": "https://localhost:8080/",
          "height": 468
        },
        "id": "FfunKi6nV8QT",
        "outputId": "317d7a6a-78d6-48cc-8b88-5472f3b87297"
      },
      "execution_count": null,
      "outputs": [
        {
          "output_type": "execute_result",
          "data": {
            "text/plain": [
              "           MEAN_RR    MEDIAN_RR        SDRR      RMSSD       SDSD  SDRR_RMSSD  \\\n",
              "0       885.157845   853.763730  140.972741  15.554505  15.553371    9.063146   \n",
              "1       939.425371   948.357865   81.317742  12.964439  12.964195    6.272369   \n",
              "2       898.186047   907.006860   84.497236  16.305279  16.305274    5.182201   \n",
              "3       881.757865   893.460030   90.370537  15.720468  15.720068    5.748591   \n",
              "4       809.625331   811.184865   62.766242  19.213819  19.213657    3.266724   \n",
              "...            ...          ...         ...        ...        ...         ...   \n",
              "41028  1118.406543  1117.857050  113.955632  18.592177  18.592071    6.129225   \n",
              "41029   855.991173   765.221410  296.763366  20.623727  20.610745   14.389415   \n",
              "41030   689.388662   663.192770  133.815714  21.699038  21.696138    6.166896   \n",
              "41031   761.421571   761.064590   60.792671  11.280586  11.280573    5.389141   \n",
              "41032   868.040461   873.048735   61.301652  11.781442  11.781440    5.203239   \n",
              "\n",
              "              HR      pNN25     pNN50        SD1  ...      LF_NU          HF  \\\n",
              "0      69.499952  11.133333  0.533333  11.001565  ...  98.485263   15.522603   \n",
              "1      64.363150   5.600000  0.000000   9.170129  ...  99.695397    2.108525   \n",
              "2      67.450066  13.066667  0.200000  11.533417  ...  98.950472   13.769729   \n",
              "3      68.809562  11.800000  0.133333  11.119476  ...  98.224706   18.181913   \n",
              "4      74.565728  20.200000  0.200000  13.590641  ...  96.720007   48.215822   \n",
              "...          ...        ...       ...        ...  ...        ...         ...   \n",
              "41028  54.234182  18.800000  0.266667  13.150967  ...  99.964170    0.347514   \n",
              "41029  76.416971  15.733333  3.533333  14.578861  ...  91.377081  118.014128   \n",
              "41030  90.254005  13.933333  4.000000  15.346606  ...  89.839595  216.200973   \n",
              "41031  79.313782   2.733333  0.266667   7.979232  ...  93.094387   41.797177   \n",
              "41032  69.484061   3.733333  0.000000   8.333516  ...  98.591934    9.748285   \n",
              "\n",
              "         HF_PCT      HF_NU           TP        LF_HF     HF_LF    sampen  \\\n",
              "0      0.421047   1.514737  3686.666157    65.018055  0.015380  2.139754   \n",
              "1      0.070133   0.304603  3006.487251   327.296635  0.003055  2.174499   \n",
              "2      0.512671   1.049528  2685.879461    94.280910  0.010607  2.135350   \n",
              "3      0.529387   1.775294  3434.520980    55.328701  0.018074  2.178341   \n",
              "4      1.839473   3.279993  2621.175204    29.487873  0.033912  2.221121   \n",
              "...         ...        ...          ...          ...       ...       ...   \n",
              "41028  0.006813   0.035830  5100.718213  2789.962965  0.000358  2.183460   \n",
              "41029  1.383097   8.622919  8532.599635    10.597001  0.094366  1.695327   \n",
              "41030  3.559302  10.160405  6074.251632     8.842128  0.113095  2.078000   \n",
              "41031  3.124367   6.905613  1337.780773    13.480973  0.074179  2.191379   \n",
              "41032  0.580832   1.408066  1678.332700    70.019404  0.014282  2.143131   \n",
              "\n",
              "         higuci      condition  \n",
              "0      1.163485      no stress  \n",
              "1      1.084711   interruption  \n",
              "2      1.176315   interruption  \n",
              "3      1.179688      no stress  \n",
              "4      1.249612      no stress  \n",
              "...         ...            ...  \n",
              "41028  1.082927  time pressure  \n",
              "41029  1.154370   interruption  \n",
              "41030  1.214869      no stress  \n",
              "41031  1.234546      no stress  \n",
              "41032  1.142660  time pressure  \n",
              "\n",
              "[410322 rows x 35 columns]"
            ],
            "text/html": [
              "\n",
              "  <div id=\"df-7396af28-41d9-46c5-a67f-c1bdcbca174c\">\n",
              "    <div class=\"colab-df-container\">\n",
              "      <div>\n",
              "<style scoped>\n",
              "    .dataframe tbody tr th:only-of-type {\n",
              "        vertical-align: middle;\n",
              "    }\n",
              "\n",
              "    .dataframe tbody tr th {\n",
              "        vertical-align: top;\n",
              "    }\n",
              "\n",
              "    .dataframe thead th {\n",
              "        text-align: right;\n",
              "    }\n",
              "</style>\n",
              "<table border=\"1\" class=\"dataframe\">\n",
              "  <thead>\n",
              "    <tr style=\"text-align: right;\">\n",
              "      <th></th>\n",
              "      <th>MEAN_RR</th>\n",
              "      <th>MEDIAN_RR</th>\n",
              "      <th>SDRR</th>\n",
              "      <th>RMSSD</th>\n",
              "      <th>SDSD</th>\n",
              "      <th>SDRR_RMSSD</th>\n",
              "      <th>HR</th>\n",
              "      <th>pNN25</th>\n",
              "      <th>pNN50</th>\n",
              "      <th>SD1</th>\n",
              "      <th>...</th>\n",
              "      <th>LF_NU</th>\n",
              "      <th>HF</th>\n",
              "      <th>HF_PCT</th>\n",
              "      <th>HF_NU</th>\n",
              "      <th>TP</th>\n",
              "      <th>LF_HF</th>\n",
              "      <th>HF_LF</th>\n",
              "      <th>sampen</th>\n",
              "      <th>higuci</th>\n",
              "      <th>condition</th>\n",
              "    </tr>\n",
              "  </thead>\n",
              "  <tbody>\n",
              "    <tr>\n",
              "      <th>0</th>\n",
              "      <td>885.157845</td>\n",
              "      <td>853.763730</td>\n",
              "      <td>140.972741</td>\n",
              "      <td>15.554505</td>\n",
              "      <td>15.553371</td>\n",
              "      <td>9.063146</td>\n",
              "      <td>69.499952</td>\n",
              "      <td>11.133333</td>\n",
              "      <td>0.533333</td>\n",
              "      <td>11.001565</td>\n",
              "      <td>...</td>\n",
              "      <td>98.485263</td>\n",
              "      <td>15.522603</td>\n",
              "      <td>0.421047</td>\n",
              "      <td>1.514737</td>\n",
              "      <td>3686.666157</td>\n",
              "      <td>65.018055</td>\n",
              "      <td>0.015380</td>\n",
              "      <td>2.139754</td>\n",
              "      <td>1.163485</td>\n",
              "      <td>no stress</td>\n",
              "    </tr>\n",
              "    <tr>\n",
              "      <th>1</th>\n",
              "      <td>939.425371</td>\n",
              "      <td>948.357865</td>\n",
              "      <td>81.317742</td>\n",
              "      <td>12.964439</td>\n",
              "      <td>12.964195</td>\n",
              "      <td>6.272369</td>\n",
              "      <td>64.363150</td>\n",
              "      <td>5.600000</td>\n",
              "      <td>0.000000</td>\n",
              "      <td>9.170129</td>\n",
              "      <td>...</td>\n",
              "      <td>99.695397</td>\n",
              "      <td>2.108525</td>\n",
              "      <td>0.070133</td>\n",
              "      <td>0.304603</td>\n",
              "      <td>3006.487251</td>\n",
              "      <td>327.296635</td>\n",
              "      <td>0.003055</td>\n",
              "      <td>2.174499</td>\n",
              "      <td>1.084711</td>\n",
              "      <td>interruption</td>\n",
              "    </tr>\n",
              "    <tr>\n",
              "      <th>2</th>\n",
              "      <td>898.186047</td>\n",
              "      <td>907.006860</td>\n",
              "      <td>84.497236</td>\n",
              "      <td>16.305279</td>\n",
              "      <td>16.305274</td>\n",
              "      <td>5.182201</td>\n",
              "      <td>67.450066</td>\n",
              "      <td>13.066667</td>\n",
              "      <td>0.200000</td>\n",
              "      <td>11.533417</td>\n",
              "      <td>...</td>\n",
              "      <td>98.950472</td>\n",
              "      <td>13.769729</td>\n",
              "      <td>0.512671</td>\n",
              "      <td>1.049528</td>\n",
              "      <td>2685.879461</td>\n",
              "      <td>94.280910</td>\n",
              "      <td>0.010607</td>\n",
              "      <td>2.135350</td>\n",
              "      <td>1.176315</td>\n",
              "      <td>interruption</td>\n",
              "    </tr>\n",
              "    <tr>\n",
              "      <th>3</th>\n",
              "      <td>881.757865</td>\n",
              "      <td>893.460030</td>\n",
              "      <td>90.370537</td>\n",
              "      <td>15.720468</td>\n",
              "      <td>15.720068</td>\n",
              "      <td>5.748591</td>\n",
              "      <td>68.809562</td>\n",
              "      <td>11.800000</td>\n",
              "      <td>0.133333</td>\n",
              "      <td>11.119476</td>\n",
              "      <td>...</td>\n",
              "      <td>98.224706</td>\n",
              "      <td>18.181913</td>\n",
              "      <td>0.529387</td>\n",
              "      <td>1.775294</td>\n",
              "      <td>3434.520980</td>\n",
              "      <td>55.328701</td>\n",
              "      <td>0.018074</td>\n",
              "      <td>2.178341</td>\n",
              "      <td>1.179688</td>\n",
              "      <td>no stress</td>\n",
              "    </tr>\n",
              "    <tr>\n",
              "      <th>4</th>\n",
              "      <td>809.625331</td>\n",
              "      <td>811.184865</td>\n",
              "      <td>62.766242</td>\n",
              "      <td>19.213819</td>\n",
              "      <td>19.213657</td>\n",
              "      <td>3.266724</td>\n",
              "      <td>74.565728</td>\n",
              "      <td>20.200000</td>\n",
              "      <td>0.200000</td>\n",
              "      <td>13.590641</td>\n",
              "      <td>...</td>\n",
              "      <td>96.720007</td>\n",
              "      <td>48.215822</td>\n",
              "      <td>1.839473</td>\n",
              "      <td>3.279993</td>\n",
              "      <td>2621.175204</td>\n",
              "      <td>29.487873</td>\n",
              "      <td>0.033912</td>\n",
              "      <td>2.221121</td>\n",
              "      <td>1.249612</td>\n",
              "      <td>no stress</td>\n",
              "    </tr>\n",
              "    <tr>\n",
              "      <th>...</th>\n",
              "      <td>...</td>\n",
              "      <td>...</td>\n",
              "      <td>...</td>\n",
              "      <td>...</td>\n",
              "      <td>...</td>\n",
              "      <td>...</td>\n",
              "      <td>...</td>\n",
              "      <td>...</td>\n",
              "      <td>...</td>\n",
              "      <td>...</td>\n",
              "      <td>...</td>\n",
              "      <td>...</td>\n",
              "      <td>...</td>\n",
              "      <td>...</td>\n",
              "      <td>...</td>\n",
              "      <td>...</td>\n",
              "      <td>...</td>\n",
              "      <td>...</td>\n",
              "      <td>...</td>\n",
              "      <td>...</td>\n",
              "      <td>...</td>\n",
              "    </tr>\n",
              "    <tr>\n",
              "      <th>41028</th>\n",
              "      <td>1118.406543</td>\n",
              "      <td>1117.857050</td>\n",
              "      <td>113.955632</td>\n",
              "      <td>18.592177</td>\n",
              "      <td>18.592071</td>\n",
              "      <td>6.129225</td>\n",
              "      <td>54.234182</td>\n",
              "      <td>18.800000</td>\n",
              "      <td>0.266667</td>\n",
              "      <td>13.150967</td>\n",
              "      <td>...</td>\n",
              "      <td>99.964170</td>\n",
              "      <td>0.347514</td>\n",
              "      <td>0.006813</td>\n",
              "      <td>0.035830</td>\n",
              "      <td>5100.718213</td>\n",
              "      <td>2789.962965</td>\n",
              "      <td>0.000358</td>\n",
              "      <td>2.183460</td>\n",
              "      <td>1.082927</td>\n",
              "      <td>time pressure</td>\n",
              "    </tr>\n",
              "    <tr>\n",
              "      <th>41029</th>\n",
              "      <td>855.991173</td>\n",
              "      <td>765.221410</td>\n",
              "      <td>296.763366</td>\n",
              "      <td>20.623727</td>\n",
              "      <td>20.610745</td>\n",
              "      <td>14.389415</td>\n",
              "      <td>76.416971</td>\n",
              "      <td>15.733333</td>\n",
              "      <td>3.533333</td>\n",
              "      <td>14.578861</td>\n",
              "      <td>...</td>\n",
              "      <td>91.377081</td>\n",
              "      <td>118.014128</td>\n",
              "      <td>1.383097</td>\n",
              "      <td>8.622919</td>\n",
              "      <td>8532.599635</td>\n",
              "      <td>10.597001</td>\n",
              "      <td>0.094366</td>\n",
              "      <td>1.695327</td>\n",
              "      <td>1.154370</td>\n",
              "      <td>interruption</td>\n",
              "    </tr>\n",
              "    <tr>\n",
              "      <th>41030</th>\n",
              "      <td>689.388662</td>\n",
              "      <td>663.192770</td>\n",
              "      <td>133.815714</td>\n",
              "      <td>21.699038</td>\n",
              "      <td>21.696138</td>\n",
              "      <td>6.166896</td>\n",
              "      <td>90.254005</td>\n",
              "      <td>13.933333</td>\n",
              "      <td>4.000000</td>\n",
              "      <td>15.346606</td>\n",
              "      <td>...</td>\n",
              "      <td>89.839595</td>\n",
              "      <td>216.200973</td>\n",
              "      <td>3.559302</td>\n",
              "      <td>10.160405</td>\n",
              "      <td>6074.251632</td>\n",
              "      <td>8.842128</td>\n",
              "      <td>0.113095</td>\n",
              "      <td>2.078000</td>\n",
              "      <td>1.214869</td>\n",
              "      <td>no stress</td>\n",
              "    </tr>\n",
              "    <tr>\n",
              "      <th>41031</th>\n",
              "      <td>761.421571</td>\n",
              "      <td>761.064590</td>\n",
              "      <td>60.792671</td>\n",
              "      <td>11.280586</td>\n",
              "      <td>11.280573</td>\n",
              "      <td>5.389141</td>\n",
              "      <td>79.313782</td>\n",
              "      <td>2.733333</td>\n",
              "      <td>0.266667</td>\n",
              "      <td>7.979232</td>\n",
              "      <td>...</td>\n",
              "      <td>93.094387</td>\n",
              "      <td>41.797177</td>\n",
              "      <td>3.124367</td>\n",
              "      <td>6.905613</td>\n",
              "      <td>1337.780773</td>\n",
              "      <td>13.480973</td>\n",
              "      <td>0.074179</td>\n",
              "      <td>2.191379</td>\n",
              "      <td>1.234546</td>\n",
              "      <td>no stress</td>\n",
              "    </tr>\n",
              "    <tr>\n",
              "      <th>41032</th>\n",
              "      <td>868.040461</td>\n",
              "      <td>873.048735</td>\n",
              "      <td>61.301652</td>\n",
              "      <td>11.781442</td>\n",
              "      <td>11.781440</td>\n",
              "      <td>5.203239</td>\n",
              "      <td>69.484061</td>\n",
              "      <td>3.733333</td>\n",
              "      <td>0.000000</td>\n",
              "      <td>8.333516</td>\n",
              "      <td>...</td>\n",
              "      <td>98.591934</td>\n",
              "      <td>9.748285</td>\n",
              "      <td>0.580832</td>\n",
              "      <td>1.408066</td>\n",
              "      <td>1678.332700</td>\n",
              "      <td>70.019404</td>\n",
              "      <td>0.014282</td>\n",
              "      <td>2.143131</td>\n",
              "      <td>1.142660</td>\n",
              "      <td>time pressure</td>\n",
              "    </tr>\n",
              "  </tbody>\n",
              "</table>\n",
              "<p>410322 rows × 35 columns</p>\n",
              "</div>\n",
              "      <button class=\"colab-df-convert\" onclick=\"convertToInteractive('df-7396af28-41d9-46c5-a67f-c1bdcbca174c')\"\n",
              "              title=\"Convert this dataframe to an interactive table.\"\n",
              "              style=\"display:none;\">\n",
              "        \n",
              "  <svg xmlns=\"http://www.w3.org/2000/svg\" height=\"24px\"viewBox=\"0 0 24 24\"\n",
              "       width=\"24px\">\n",
              "    <path d=\"M0 0h24v24H0V0z\" fill=\"none\"/>\n",
              "    <path d=\"M18.56 5.44l.94 2.06.94-2.06 2.06-.94-2.06-.94-.94-2.06-.94 2.06-2.06.94zm-11 1L8.5 8.5l.94-2.06 2.06-.94-2.06-.94L8.5 2.5l-.94 2.06-2.06.94zm10 10l.94 2.06.94-2.06 2.06-.94-2.06-.94-.94-2.06-.94 2.06-2.06.94z\"/><path d=\"M17.41 7.96l-1.37-1.37c-.4-.4-.92-.59-1.43-.59-.52 0-1.04.2-1.43.59L10.3 9.45l-7.72 7.72c-.78.78-.78 2.05 0 2.83L4 21.41c.39.39.9.59 1.41.59.51 0 1.02-.2 1.41-.59l7.78-7.78 2.81-2.81c.8-.78.8-2.07 0-2.86zM5.41 20L4 18.59l7.72-7.72 1.47 1.35L5.41 20z\"/>\n",
              "  </svg>\n",
              "      </button>\n",
              "      \n",
              "  <style>\n",
              "    .colab-df-container {\n",
              "      display:flex;\n",
              "      flex-wrap:wrap;\n",
              "      gap: 12px;\n",
              "    }\n",
              "\n",
              "    .colab-df-convert {\n",
              "      background-color: #E8F0FE;\n",
              "      border: none;\n",
              "      border-radius: 50%;\n",
              "      cursor: pointer;\n",
              "      display: none;\n",
              "      fill: #1967D2;\n",
              "      height: 32px;\n",
              "      padding: 0 0 0 0;\n",
              "      width: 32px;\n",
              "    }\n",
              "\n",
              "    .colab-df-convert:hover {\n",
              "      background-color: #E2EBFA;\n",
              "      box-shadow: 0px 1px 2px rgba(60, 64, 67, 0.3), 0px 1px 3px 1px rgba(60, 64, 67, 0.15);\n",
              "      fill: #174EA6;\n",
              "    }\n",
              "\n",
              "    [theme=dark] .colab-df-convert {\n",
              "      background-color: #3B4455;\n",
              "      fill: #D2E3FC;\n",
              "    }\n",
              "\n",
              "    [theme=dark] .colab-df-convert:hover {\n",
              "      background-color: #434B5C;\n",
              "      box-shadow: 0px 1px 3px 1px rgba(0, 0, 0, 0.15);\n",
              "      filter: drop-shadow(0px 1px 2px rgba(0, 0, 0, 0.3));\n",
              "      fill: #FFFFFF;\n",
              "    }\n",
              "  </style>\n",
              "\n",
              "      <script>\n",
              "        const buttonEl =\n",
              "          document.querySelector('#df-7396af28-41d9-46c5-a67f-c1bdcbca174c button.colab-df-convert');\n",
              "        buttonEl.style.display =\n",
              "          google.colab.kernel.accessAllowed ? 'block' : 'none';\n",
              "\n",
              "        async function convertToInteractive(key) {\n",
              "          const element = document.querySelector('#df-7396af28-41d9-46c5-a67f-c1bdcbca174c');\n",
              "          const dataTable =\n",
              "            await google.colab.kernel.invokeFunction('convertToInteractive',\n",
              "                                                     [key], {});\n",
              "          if (!dataTable) return;\n",
              "\n",
              "          const docLinkHtml = 'Like what you see? Visit the ' +\n",
              "            '<a target=\"_blank\" href=https://colab.research.google.com/notebooks/data_table.ipynb>data table notebook</a>'\n",
              "            + ' to learn more about interactive tables.';\n",
              "          element.innerHTML = '';\n",
              "          dataTable['output_type'] = 'display_data';\n",
              "          await google.colab.output.renderOutput(dataTable, element);\n",
              "          const docLink = document.createElement('div');\n",
              "          docLink.innerHTML = docLinkHtml;\n",
              "          element.appendChild(docLink);\n",
              "        }\n",
              "      </script>\n",
              "    </div>\n",
              "  </div>\n",
              "  "
            ]
          },
          "metadata": {},
          "execution_count": 5
        }
      ]
    },
    {
      "cell_type": "markdown",
      "source": [
        "### How are the labels distributed?"
      ],
      "metadata": {
        "id": "0iHSyuGNWIEe"
      }
    },
    {
      "cell_type": "code",
      "source": [
        "sns.countplot(data=swell,x='condition');"
      ],
      "metadata": {
        "colab": {
          "base_uri": "https://localhost:8080/",
          "height": 279
        },
        "id": "q_4tkjbNVgzK",
        "outputId": "15f3021d-35bc-4a08-9113-f098b5933a9f"
      },
      "execution_count": null,
      "outputs": [
        {
          "output_type": "display_data",
          "data": {
            "text/plain": [
              "<Figure size 432x288 with 1 Axes>"
            ],
            "image/png": "[encoded data removed]"
          },
          "metadata": {
            "needs_background": "light"
          }
        }
      ]
    },
    {
      "cell_type": "markdown",
      "source": [
        "### Why does the 'no stress' *condition* have a higher *heart rate* than the stress *conditions*?"
      ],
      "metadata": {
        "id": "hHfPgJUJW8-V"
      }
    },
    {
      "cell_type": "code",
      "source": [
        "sns.boxplot(data=swell,x='condition',y='HR');"
      ],
      "metadata": {
        "colab": {
          "base_uri": "https://localhost:8080/",
          "height": 279
        },
        "id": "NHQKo6gUW_yH",
        "outputId": "e8dbc9b6-0b41-45d8-dacd-f5df85b5fa9e"
      },
      "execution_count": null,
      "outputs": [
        {
          "output_type": "display_data",
          "data": {
            "text/plain": [
              "<Figure size 432x288 with 1 Axes>"
            ],
            "image/png": "[encoded data removed]"
          },
          "metadata": {
            "needs_background": "light"
          }
        }
      ]
    },
    {
      "cell_type": "markdown",
      "source": [
        "### How are the variables correlated?"
      ],
      "metadata": {
        "id": "B2fHzHgIcxqt"
      }
    },
    {
      "cell_type": "code",
      "source": [
        "plt.figure(figsize=(12, 8))\n",
        "\n",
        "sns.heatmap(\n",
        "swell.corr(),\n",
        "vmin=-1, vmax=1, center=0,\n",
        "cmap=sns.diverging_palette(50, 500, n=500),\n",
        "square=True\n",
        ");"
      ],
      "metadata": {
        "colab": {
          "base_uri": "https://localhost:8080/",
          "height": 588
        },
        "id": "EV4zs1stcwDz",
        "outputId": "701373de-bc7d-4a5a-e48f-f268dc7c0cdd"
      },
      "execution_count": null,
      "outputs": [
        {
          "output_type": "display_data",
          "data": {
            "text/plain": [
              "<Figure size 864x576 with 2 Axes>"
            ],
            "image/png": "[encoded data removed]"
          },
          "metadata": {
            "needs_background": "light"
          }
        }
      ]
    },
    {
      "cell_type": "markdown",
      "source": [
        "## Part 4: Machine Learning"
      ],
      "metadata": {
        "id": "upjsWEsMYJg-"
      }
    },
    {
      "cell_type": "markdown",
      "source": [
        "### Feature Selection"
      ],
      "metadata": {
        "id": "WeLTdh6ay-nx"
      }
    },
    {
      "cell_type": "code",
      "source": [
        ""
      ],
      "metadata": {
        "id": "fY1QRcUHzTqy"
      },
      "execution_count": null,
      "outputs": []
    },
    {
      "cell_type": "markdown",
      "source": [
        "### 1D CNN"
      ],
      "metadata": {
        "id": "9lgl0bED3cKy"
      }
    },
    {
      "cell_type": "code",
      "execution_count": null,
      "metadata": {
        "id": "nicEnXJ3wdeX"
      },
      "outputs": [],
      "source": [
        "X = swell.drop('condition',axis=1).to_numpy()\n",
        "y = swell['condition']"
      ]
    },
    {
      "cell_type": "code",
      "execution_count": null,
      "metadata": {
        "id": "YVIc-y0rGIta",
        "colab": {
          "base_uri": "https://localhost:8080/"
        },
        "outputId": "4592c8cd-d541-4123-b390-ee486c664c7f"
      },
      "outputs": [
        {
          "output_type": "stream",
          "name": "stdout",
          "text": [
            "['no stress' 'interruption' 'time pressure']\n",
            "[0 1 2]\n"
          ]
        }
      ],
      "source": [
        "from sklearn.preprocessing import LabelEncoder\n",
        "\n",
        "encoder = LabelEncoder()\n",
        "print(y.unique())\n",
        "y = encoder.fit_transform(y)\n",
        "print(np.unique(y))"
      ]
    },
    {
      "cell_type": "code",
      "source": [
        "print(type(X))\n",
        "print(type(y))"
      ],
      "metadata": {
        "colab": {
          "base_uri": "https://localhost:8080/"
        },
        "id": "G6mScQ7WZUtx",
        "outputId": "34ebc4c0-2826-488f-d76f-48bd1095e9c6"
      },
      "execution_count": null,
      "outputs": [
        {
          "output_type": "stream",
          "name": "stdout",
          "text": [
            "<class 'numpy.ndarray'>\n",
            "<class 'numpy.ndarray'>\n"
          ]
        }
      ]
    },
    {
      "cell_type": "code",
      "source": [
        "print(X.shape)\n",
        "print(y.shape)"
      ],
      "metadata": {
        "colab": {
          "base_uri": "https://localhost:8080/"
        },
        "id": "IUGQEpWOZe_o",
        "outputId": "be7e37a5-2bee-42a8-da2c-1ee7374eb02b"
      },
      "execution_count": null,
      "outputs": [
        {
          "output_type": "stream",
          "name": "stdout",
          "text": [
            "(410322, 34)\n",
            "(410322,)\n"
          ]
        }
      ]
    },
    {
      "cell_type": "code",
      "execution_count": null,
      "metadata": {
        "id": "nnmuZLR9mbV5"
      },
      "outputs": [],
      "source": [
        "from sklearn.model_selection import train_test_split\n",
        "X_train, X_test, y_train, y_test=train_test_split(X, y, test_size=0.20, random_state=123)"
      ]
    },
    {
      "cell_type": "code",
      "execution_count": null,
      "metadata": {
        "id": "8a_KN9RCoIZt",
        "colab": {
          "base_uri": "https://localhost:8080/"
        },
        "outputId": "19fc1913-2313-456e-cb17-73c503c71f61"
      },
      "outputs": [
        {
          "output_type": "stream",
          "name": "stdout",
          "text": [
            "836.6399952866666\n",
            "0.3733296518304481\n"
          ]
        }
      ],
      "source": [
        "from sklearn.preprocessing import MinMaxScaler\n",
        "\n",
        "scaler = MinMaxScaler()\n",
        "print(X_train[0][0])\n",
        "X_train = scaler.fit_transform(X_train)\n",
        "X_test = scaler.transform(X_test)\n",
        "print(X_train[0][0])"
      ]
    },
    {
      "cell_type": "code",
      "execution_count": null,
      "metadata": {
        "colab": {
          "base_uri": "https://localhost:8080/"
        },
        "id": "YipTwInwyPRg",
        "outputId": "18104cb4-f4b5-4b48-a239-d22f28ee1de4"
      },
      "outputs": [
        {
          "output_type": "stream",
          "name": "stdout",
          "text": [
            "(328257, 34)\n",
            "(328257, 34, 1)\n"
          ]
        }
      ],
      "source": [
        "print(X_train.shape)\n",
        "X_train = X_train.reshape(X_train.shape[0], X_train.shape[1], 1)\n",
        "X_test = X_test.reshape(X_test.shape[0], X_test.shape[1], 1)\n",
        "print(X_train.shape)"
      ]
    },
    {
      "cell_type": "code",
      "execution_count": null,
      "metadata": {
        "id": "UaFy1uHoHcYN"
      },
      "outputs": [],
      "source": [
        "from tensorflow.keras.callbacks import EarlyStopping\n",
        "early_stop = EarlyStopping(monitor='accuracy', mode='max', verbose=1, patience=10)"
      ]
    },
    {
      "cell_type": "code",
      "execution_count": null,
      "metadata": {
        "id": "piHckfSqmoJJ"
      },
      "outputs": [],
      "source": [
        "from tensorflow.keras.models import Sequential\n",
        "from tensorflow.keras.layers import Dense, Conv1D, Flatten, MaxPooling1D\n",
        "\n",
        "def create_model():\n",
        "  model = Sequential()\n",
        "  model.add(Conv1D(filters=64, kernel_size=2, activation=\"relu\"))\n",
        "  model.add(Dense(16, activation=\"relu\"))\n",
        "  model.add(MaxPooling1D())\n",
        "  model.add(Flatten())\n",
        "  model.add(Dense(3, activation = 'softmax'))\n",
        "\n",
        "  model.compile(loss = 'sparse_categorical_crossentropy',\n",
        "                optimizer = \"adam\",\n",
        "                metrics = ['accuracy'])\n",
        "\n",
        "  return model"
      ]
    },
    {
      "cell_type": "code",
      "execution_count": null,
      "metadata": {
        "id": "KcYaaFyqnL-D",
        "scrolled": true,
        "colab": {
          "base_uri": "https://localhost:8080/"
        },
        "outputId": "9a0ffc28-e2f9-40e2-fa72-72f5571b7121"
      },
      "outputs": [
        {
          "output_type": "stream",
          "name": "stdout",
          "text": [
            "Epoch 1/600\n",
            "5130/5130 [==============================] - 29s 5ms/step - loss: 0.7607 - accuracy: 0.6637 - val_loss: 0.6520 - val_accuracy: 0.7120\n",
            "Epoch 2/600\n",
            "5130/5130 [==============================] - 23s 5ms/step - loss: 0.6098 - accuracy: 0.7352 - val_loss: 0.5865 - val_accuracy: 0.7598\n",
            "Epoch 3/600\n",
            "5130/5130 [==============================] - 23s 5ms/step - loss: 0.5449 - accuracy: 0.7668 - val_loss: 0.5477 - val_accuracy: 0.7442\n",
            "Epoch 4/600\n",
            "5130/5130 [==============================] - 24s 5ms/step - loss: 0.4976 - accuracy: 0.7901 - val_loss: 0.4742 - val_accuracy: 0.7924\n",
            "Epoch 5/600\n",
            "5130/5130 [==============================] - 23s 5ms/step - loss: 0.4606 - accuracy: 0.8083 - val_loss: 0.4431 - val_accuracy: 0.8047\n",
            "Epoch 6/600\n",
            "5130/5130 [==============================] - 23s 5ms/step - loss: 0.4302 - accuracy: 0.8225 - val_loss: 0.4354 - val_accuracy: 0.8177\n",
            "Epoch 7/600\n",
            "5130/5130 [==============================] - 22s 4ms/step - loss: 0.4048 - accuracy: 0.8348 - val_loss: 0.3866 - val_accuracy: 0.8461\n",
            "Epoch 8/600\n",
            "5130/5130 [==============================] - 24s 5ms/step - loss: 0.3840 - accuracy: 0.8451 - val_loss: 0.4355 - val_accuracy: 0.8152\n",
            "Epoch 9/600\n",
            "5130/5130 [==============================] - 25s 5ms/step - loss: 0.3693 - accuracy: 0.8507 - val_loss: 0.3516 - val_accuracy: 0.8626\n",
            "Epoch 10/600\n",
            "5130/5130 [==============================] - 23s 5ms/step - loss: 0.3567 - accuracy: 0.8564 - val_loss: 0.3453 - val_accuracy: 0.8638\n",
            "Epoch 11/600\n",
            "5130/5130 [==============================] - 23s 5ms/step - loss: 0.3460 - accuracy: 0.8613 - val_loss: 0.3338 - val_accuracy: 0.8694\n",
            "Epoch 12/600\n",
            "5130/5130 [==============================] - 23s 4ms/step - loss: 0.3359 - accuracy: 0.8667 - val_loss: 0.3229 - val_accuracy: 0.8734\n",
            "Epoch 13/600\n",
            "5130/5130 [==============================] - 24s 5ms/step - loss: 0.3271 - accuracy: 0.8703 - val_loss: 0.3779 - val_accuracy: 0.8378\n",
            "Epoch 14/600\n",
            "5130/5130 [==============================] - 23s 4ms/step - loss: 0.3190 - accuracy: 0.8742 - val_loss: 0.3237 - val_accuracy: 0.8679\n",
            "Epoch 15/600\n",
            "5130/5130 [==============================] - 23s 4ms/step - loss: 0.3117 - accuracy: 0.8769 - val_loss: 0.3427 - val_accuracy: 0.8603\n",
            "Epoch 16/600\n",
            "5130/5130 [==============================] - 23s 5ms/step - loss: 0.3066 - accuracy: 0.8795 - val_loss: 0.3123 - val_accuracy: 0.8749\n",
            "Epoch 17/600\n",
            "5130/5130 [==============================] - 23s 5ms/step - loss: 0.3005 - accuracy: 0.8821 - val_loss: 0.3003 - val_accuracy: 0.8786\n",
            "Epoch 18/600\n",
            "5130/5130 [==============================] - 23s 5ms/step - loss: 0.2953 - accuracy: 0.8846 - val_loss: 0.3014 - val_accuracy: 0.8759\n",
            "Epoch 19/600\n",
            "5130/5130 [==============================] - 23s 5ms/step - loss: 0.2911 - accuracy: 0.8859 - val_loss: 0.2932 - val_accuracy: 0.8854\n",
            "Epoch 20/600\n",
            "5130/5130 [==============================] - 23s 4ms/step - loss: 0.2849 - accuracy: 0.8886 - val_loss: 0.2727 - val_accuracy: 0.8947\n",
            "Epoch 21/600\n",
            "5130/5130 [==============================] - 23s 5ms/step - loss: 0.2811 - accuracy: 0.8904 - val_loss: 0.3790 - val_accuracy: 0.8447\n",
            "Epoch 22/600\n",
            "5130/5130 [==============================] - 24s 5ms/step - loss: 0.2768 - accuracy: 0.8922 - val_loss: 0.2688 - val_accuracy: 0.8963\n",
            "Epoch 23/600\n",
            "5130/5130 [==============================] - 24s 5ms/step - loss: 0.2722 - accuracy: 0.8945 - val_loss: 0.2855 - val_accuracy: 0.8878\n",
            "Epoch 24/600\n",
            "5130/5130 [==============================] - 23s 4ms/step - loss: 0.2687 - accuracy: 0.8960 - val_loss: 0.4012 - val_accuracy: 0.8383\n",
            "Epoch 25/600\n",
            "5130/5130 [==============================] - 22s 4ms/step - loss: 0.2665 - accuracy: 0.8963 - val_loss: 0.2544 - val_accuracy: 0.9004\n",
            "Epoch 26/600\n",
            "5130/5130 [==============================] - 23s 5ms/step - loss: 0.2617 - accuracy: 0.8989 - val_loss: 0.2469 - val_accuracy: 0.9052\n",
            "Epoch 27/600\n",
            "5130/5130 [==============================] - 24s 5ms/step - loss: 0.2578 - accuracy: 0.9002 - val_loss: 0.2602 - val_accuracy: 0.8958\n",
            "Epoch 28/600\n",
            "5130/5130 [==============================] - 23s 5ms/step - loss: 0.2559 - accuracy: 0.9010 - val_loss: 0.2425 - val_accuracy: 0.9060\n",
            "Epoch 29/600\n",
            "5130/5130 [==============================] - 23s 5ms/step - loss: 0.2525 - accuracy: 0.9026 - val_loss: 0.2424 - val_accuracy: 0.9087\n",
            "Epoch 30/600\n",
            "5130/5130 [==============================] - 24s 5ms/step - loss: 0.2488 - accuracy: 0.9039 - val_loss: 0.2476 - val_accuracy: 0.9073\n",
            "Epoch 31/600\n",
            "5130/5130 [==============================] - 24s 5ms/step - loss: 0.2466 - accuracy: 0.9048 - val_loss: 0.2733 - val_accuracy: 0.8879\n",
            "Epoch 32/600\n",
            "5130/5130 [==============================] - 24s 5ms/step - loss: 0.2442 - accuracy: 0.9059 - val_loss: 0.2484 - val_accuracy: 0.9013\n",
            "Epoch 33/600\n",
            "5130/5130 [==============================] - 24s 5ms/step - loss: 0.2412 - accuracy: 0.9071 - val_loss: 0.2312 - val_accuracy: 0.9123\n",
            "Epoch 34/600\n",
            "5130/5130 [==============================] - 25s 5ms/step - loss: 0.2385 - accuracy: 0.9078 - val_loss: 0.2616 - val_accuracy: 0.8920\n",
            "Epoch 35/600\n",
            "5130/5130 [==============================] - 23s 4ms/step - loss: 0.2372 - accuracy: 0.9084 - val_loss: 0.3651 - val_accuracy: 0.8539\n",
            "Epoch 36/600\n",
            "5130/5130 [==============================] - 23s 5ms/step - loss: 0.2349 - accuracy: 0.9090 - val_loss: 0.2422 - val_accuracy: 0.9022\n",
            "Epoch 37/600\n",
            "5130/5130 [==============================] - 24s 5ms/step - loss: 0.2313 - accuracy: 0.9109 - val_loss: 0.2233 - val_accuracy: 0.9141\n",
            "Epoch 38/600\n",
            "5130/5130 [==============================] - 23s 5ms/step - loss: 0.2279 - accuracy: 0.9125 - val_loss: 0.2224 - val_accuracy: 0.9158\n",
            "Epoch 39/600\n",
            "5130/5130 [==============================] - 23s 5ms/step - loss: 0.2261 - accuracy: 0.9127 - val_loss: 0.2569 - val_accuracy: 0.8931\n",
            "Epoch 40/600\n",
            "5130/5130 [==============================] - 22s 4ms/step - loss: 0.2234 - accuracy: 0.9141 - val_loss: 0.2221 - val_accuracy: 0.9146\n",
            "Epoch 41/600\n",
            "5130/5130 [==============================] - 23s 4ms/step - loss: 0.2219 - accuracy: 0.9141 - val_loss: 0.2515 - val_accuracy: 0.8994\n",
            "Epoch 42/600\n",
            "5130/5130 [==============================] - 24s 5ms/step - loss: 0.2189 - accuracy: 0.9159 - val_loss: 0.2636 - val_accuracy: 0.8935\n",
            "Epoch 43/600\n",
            "5130/5130 [==============================] - 25s 5ms/step - loss: 0.2174 - accuracy: 0.9160 - val_loss: 0.2040 - val_accuracy: 0.9239\n",
            "Epoch 44/600\n",
            "5130/5130 [==============================] - 23s 5ms/step - loss: 0.2137 - accuracy: 0.9173 - val_loss: 0.2137 - val_accuracy: 0.9171\n",
            "Epoch 45/600\n",
            "5130/5130 [==============================] - 24s 5ms/step - loss: 0.2105 - accuracy: 0.9194 - val_loss: 0.2407 - val_accuracy: 0.9002\n",
            "Epoch 46/600\n",
            "5130/5130 [==============================] - 25s 5ms/step - loss: 0.2093 - accuracy: 0.9198 - val_loss: 0.2028 - val_accuracy: 0.9221\n",
            "Epoch 47/600\n",
            "5130/5130 [==============================] - 25s 5ms/step - loss: 0.2060 - accuracy: 0.9211 - val_loss: 0.2038 - val_accuracy: 0.9194\n",
            "Epoch 48/600\n",
            "5130/5130 [==============================] - 26s 5ms/step - loss: 0.2041 - accuracy: 0.9221 - val_loss: 0.2074 - val_accuracy: 0.9197\n",
            "Epoch 49/600\n",
            "5130/5130 [==============================] - 25s 5ms/step - loss: 0.2014 - accuracy: 0.9232 - val_loss: 0.1981 - val_accuracy: 0.9252\n",
            "Epoch 50/600\n",
            "5130/5130 [==============================] - 24s 5ms/step - loss: 0.2010 - accuracy: 0.9228 - val_loss: 0.1918 - val_accuracy: 0.9271\n",
            "Epoch 51/600\n",
            "5130/5130 [==============================] - 24s 5ms/step - loss: 0.1984 - accuracy: 0.9242 - val_loss: 0.2119 - val_accuracy: 0.9204\n",
            "Epoch 52/600\n",
            "5130/5130 [==============================] - 23s 4ms/step - loss: 0.1963 - accuracy: 0.9251 - val_loss: 0.1872 - val_accuracy: 0.9299\n",
            "Epoch 53/600\n",
            "5130/5130 [==============================] - 23s 4ms/step - loss: 0.1936 - accuracy: 0.9262 - val_loss: 0.1855 - val_accuracy: 0.9301\n",
            "Epoch 54/600\n",
            "5130/5130 [==============================] - 23s 5ms/step - loss: 0.1933 - accuracy: 0.9264 - val_loss: 0.2773 - val_accuracy: 0.8875\n",
            "Epoch 55/600\n",
            "5130/5130 [==============================] - 23s 4ms/step - loss: 0.1909 - accuracy: 0.9272 - val_loss: 0.1789 - val_accuracy: 0.9346\n",
            "Epoch 56/600\n",
            "5130/5130 [==============================] - 23s 4ms/step - loss: 0.1896 - accuracy: 0.9281 - val_loss: 0.2085 - val_accuracy: 0.9146\n",
            "Epoch 57/600\n",
            "5130/5130 [==============================] - 24s 5ms/step - loss: 0.1882 - accuracy: 0.9290 - val_loss: 0.2108 - val_accuracy: 0.9119\n",
            "Epoch 58/600\n",
            "5130/5130 [==============================] - 23s 5ms/step - loss: 0.1863 - accuracy: 0.9292 - val_loss: 0.1942 - val_accuracy: 0.9224\n",
            "Epoch 59/600\n",
            "5130/5130 [==============================] - 23s 5ms/step - loss: 0.1846 - accuracy: 0.9303 - val_loss: 0.2018 - val_accuracy: 0.9212\n",
            "Epoch 60/600\n",
            "5130/5130 [==============================] - 24s 5ms/step - loss: 0.1827 - accuracy: 0.9311 - val_loss: 0.2862 - val_accuracy: 0.8765\n",
            "Epoch 61/600\n",
            "5130/5130 [==============================] - 23s 4ms/step - loss: 0.1825 - accuracy: 0.9311 - val_loss: 0.1850 - val_accuracy: 0.9274\n",
            "Epoch 62/600\n",
            "5130/5130 [==============================] - 24s 5ms/step - loss: 0.1807 - accuracy: 0.9317 - val_loss: 0.1774 - val_accuracy: 0.9371\n",
            "Epoch 63/600\n",
            "5130/5130 [==============================] - 23s 5ms/step - loss: 0.1789 - accuracy: 0.9323 - val_loss: 0.1825 - val_accuracy: 0.9304\n",
            "Epoch 64/600\n",
            "5130/5130 [==============================] - 23s 4ms/step - loss: 0.1786 - accuracy: 0.9324 - val_loss: 0.2171 - val_accuracy: 0.9136\n",
            "Epoch 65/600\n",
            "5130/5130 [==============================] - 23s 4ms/step - loss: 0.1771 - accuracy: 0.9332 - val_loss: 0.2078 - val_accuracy: 0.9183\n",
            "Epoch 66/600\n",
            "5130/5130 [==============================] - 23s 5ms/step - loss: 0.1760 - accuracy: 0.9334 - val_loss: 0.4049 - val_accuracy: 0.8338\n",
            "Epoch 67/600\n",
            "5130/5130 [==============================] - 23s 4ms/step - loss: 0.1761 - accuracy: 0.9334 - val_loss: 0.1802 - val_accuracy: 0.9273\n",
            "Epoch 68/600\n",
            "5130/5130 [==============================] - 23s 4ms/step - loss: 0.1733 - accuracy: 0.9345 - val_loss: 0.1640 - val_accuracy: 0.9388\n",
            "Epoch 69/600\n",
            "5130/5130 [==============================] - 23s 5ms/step - loss: 0.1725 - accuracy: 0.9347 - val_loss: 0.1701 - val_accuracy: 0.9358\n",
            "Epoch 70/600\n",
            "5130/5130 [==============================] - 23s 5ms/step - loss: 0.1722 - accuracy: 0.9346 - val_loss: 0.2297 - val_accuracy: 0.9105\n",
            "Epoch 71/600\n",
            "5130/5130 [==============================] - 23s 4ms/step - loss: 0.1721 - accuracy: 0.9349 - val_loss: 0.2089 - val_accuracy: 0.9129\n",
            "Epoch 72/600\n",
            "5130/5130 [==============================] - 23s 5ms/step - loss: 0.1699 - accuracy: 0.9361 - val_loss: 0.1650 - val_accuracy: 0.9384\n",
            "Epoch 73/600\n",
            "5130/5130 [==============================] - 23s 5ms/step - loss: 0.1686 - accuracy: 0.9365 - val_loss: 0.1658 - val_accuracy: 0.9384\n",
            "Epoch 74/600\n",
            "5130/5130 [==============================] - 24s 5ms/step - loss: 0.1679 - accuracy: 0.9360 - val_loss: 0.1583 - val_accuracy: 0.9410\n",
            "Epoch 75/600\n",
            "5130/5130 [==============================] - 23s 5ms/step - loss: 0.1661 - accuracy: 0.9371 - val_loss: 0.1591 - val_accuracy: 0.9434\n",
            "Epoch 76/600\n",
            "5130/5130 [==============================] - 23s 4ms/step - loss: 0.1655 - accuracy: 0.9369 - val_loss: 0.1589 - val_accuracy: 0.9423\n",
            "Epoch 77/600\n",
            "5130/5130 [==============================] - 23s 5ms/step - loss: 0.1661 - accuracy: 0.9369 - val_loss: 0.1656 - val_accuracy: 0.9370\n",
            "Epoch 78/600\n",
            "5130/5130 [==============================] - 22s 4ms/step - loss: 0.1649 - accuracy: 0.9375 - val_loss: 0.1783 - val_accuracy: 0.9308\n",
            "Epoch 79/600\n",
            "5130/5130 [==============================] - 23s 4ms/step - loss: 0.1634 - accuracy: 0.9379 - val_loss: 0.1639 - val_accuracy: 0.9382\n",
            "Epoch 80/600\n",
            "5130/5130 [==============================] - 23s 4ms/step - loss: 0.1636 - accuracy: 0.9379 - val_loss: 0.1735 - val_accuracy: 0.9321\n",
            "Epoch 81/600\n",
            "5130/5130 [==============================] - 23s 4ms/step - loss: 0.1616 - accuracy: 0.9391 - val_loss: 0.3244 - val_accuracy: 0.8692\n",
            "Epoch 82/600\n",
            "5130/5130 [==============================] - 23s 5ms/step - loss: 0.1610 - accuracy: 0.9395 - val_loss: 0.1977 - val_accuracy: 0.9236\n",
            "Epoch 83/600\n",
            "5130/5130 [==============================] - 23s 5ms/step - loss: 0.1609 - accuracy: 0.9389 - val_loss: 0.1528 - val_accuracy: 0.9429\n",
            "Epoch 84/600\n",
            "5130/5130 [==============================] - 28s 5ms/step - loss: 0.1605 - accuracy: 0.9389 - val_loss: 0.2072 - val_accuracy: 0.9106\n",
            "Epoch 85/600\n",
            "5130/5130 [==============================] - 31s 6ms/step - loss: 0.1578 - accuracy: 0.9403 - val_loss: 0.1629 - val_accuracy: 0.9393\n",
            "Epoch 86/600\n",
            "5130/5130 [==============================] - 28s 5ms/step - loss: 0.1590 - accuracy: 0.9395 - val_loss: 0.2356 - val_accuracy: 0.9076\n",
            "Epoch 87/600\n",
            "5130/5130 [==============================] - 31s 6ms/step - loss: 0.1574 - accuracy: 0.9407 - val_loss: 0.1448 - val_accuracy: 0.9469\n",
            "Epoch 88/600\n",
            "5130/5130 [==============================] - 26s 5ms/step - loss: 0.1571 - accuracy: 0.9403 - val_loss: 0.2110 - val_accuracy: 0.9133\n",
            "Epoch 89/600\n",
            "5130/5130 [==============================] - 33s 6ms/step - loss: 0.1565 - accuracy: 0.9409 - val_loss: 0.1600 - val_accuracy: 0.9405\n",
            "Epoch 90/600\n",
            "5130/5130 [==============================] - 28s 6ms/step - loss: 0.1553 - accuracy: 0.9414 - val_loss: 0.1867 - val_accuracy: 0.9223\n",
            "Epoch 91/600\n",
            "5130/5130 [==============================] - 29s 6ms/step - loss: 0.1556 - accuracy: 0.9412 - val_loss: 0.2420 - val_accuracy: 0.9031\n",
            "Epoch 92/600\n",
            "5130/5130 [==============================] - 26s 5ms/step - loss: 0.1557 - accuracy: 0.9410 - val_loss: 0.1506 - val_accuracy: 0.9416\n",
            "Epoch 93/600\n",
            "5130/5130 [==============================] - 24s 5ms/step - loss: 0.1547 - accuracy: 0.9414 - val_loss: 0.1812 - val_accuracy: 0.9298\n",
            "Epoch 94/600\n",
            "5130/5130 [==============================] - 25s 5ms/step - loss: 0.1527 - accuracy: 0.9425 - val_loss: 0.1464 - val_accuracy: 0.9444\n",
            "Epoch 95/600\n",
            "5130/5130 [==============================] - 25s 5ms/step - loss: 0.1517 - accuracy: 0.9429 - val_loss: 0.1628 - val_accuracy: 0.9392\n",
            "Epoch 96/600\n",
            "5130/5130 [==============================] - 24s 5ms/step - loss: 0.1522 - accuracy: 0.9423 - val_loss: 0.1561 - val_accuracy: 0.9377\n",
            "Epoch 97/600\n",
            "5130/5130 [==============================] - 24s 5ms/step - loss: 0.1512 - accuracy: 0.9427 - val_loss: 0.1485 - val_accuracy: 0.9456\n",
            "Epoch 98/600\n",
            "5130/5130 [==============================] - 24s 5ms/step - loss: 0.1504 - accuracy: 0.9436 - val_loss: 0.1468 - val_accuracy: 0.9449\n",
            "Epoch 99/600\n",
            "5130/5130 [==============================] - 24s 5ms/step - loss: 0.1505 - accuracy: 0.9434 - val_loss: 0.1567 - val_accuracy: 0.9392\n",
            "Epoch 100/600\n",
            "5130/5130 [==============================] - 24s 5ms/step - loss: 0.1490 - accuracy: 0.9440 - val_loss: 0.1380 - val_accuracy: 0.9500\n",
            "Epoch 101/600\n",
            "5130/5130 [==============================] - 24s 5ms/step - loss: 0.1486 - accuracy: 0.9441 - val_loss: 0.1367 - val_accuracy: 0.9500\n",
            "Epoch 102/600\n",
            "5130/5130 [==============================] - 23s 4ms/step - loss: 0.1477 - accuracy: 0.9442 - val_loss: 0.1382 - val_accuracy: 0.9481\n",
            "Epoch 103/600\n",
            "5130/5130 [==============================] - 24s 5ms/step - loss: 0.1483 - accuracy: 0.9438 - val_loss: 0.1368 - val_accuracy: 0.9499\n",
            "Epoch 104/600\n",
            "5130/5130 [==============================] - 23s 5ms/step - loss: 0.1466 - accuracy: 0.9447 - val_loss: 0.1595 - val_accuracy: 0.9418\n",
            "Epoch 105/600\n",
            "5130/5130 [==============================] - 23s 5ms/step - loss: 0.1473 - accuracy: 0.9442 - val_loss: 0.2093 - val_accuracy: 0.9143\n",
            "Epoch 106/600\n",
            "5130/5130 [==============================] - 23s 5ms/step - loss: 0.1460 - accuracy: 0.9451 - val_loss: 0.1518 - val_accuracy: 0.9444\n",
            "Epoch 107/600\n",
            "5130/5130 [==============================] - 23s 4ms/step - loss: 0.1465 - accuracy: 0.9444 - val_loss: 0.2841 - val_accuracy: 0.8894\n",
            "Epoch 108/600\n",
            "5130/5130 [==============================] - 23s 5ms/step - loss: 0.1471 - accuracy: 0.9449 - val_loss: 0.1465 - val_accuracy: 0.9448\n",
            "Epoch 109/600\n",
            "5130/5130 [==============================] - 23s 5ms/step - loss: 0.1442 - accuracy: 0.9455 - val_loss: 0.1870 - val_accuracy: 0.9237\n",
            "Epoch 110/600\n",
            "5130/5130 [==============================] - 23s 4ms/step - loss: 0.1441 - accuracy: 0.9456 - val_loss: 0.1444 - val_accuracy: 0.9453\n",
            "Epoch 111/600\n",
            "5130/5130 [==============================] - 23s 4ms/step - loss: 0.1438 - accuracy: 0.9459 - val_loss: 0.1493 - val_accuracy: 0.9434\n",
            "Epoch 112/600\n",
            "5130/5130 [==============================] - 23s 5ms/step - loss: 0.1430 - accuracy: 0.9462 - val_loss: 0.4741 - val_accuracy: 0.8247\n",
            "Epoch 113/600\n",
            "5130/5130 [==============================] - 23s 4ms/step - loss: 0.1443 - accuracy: 0.9457 - val_loss: 0.1484 - val_accuracy: 0.9425\n",
            "Epoch 114/600\n",
            "5130/5130 [==============================] - 23s 5ms/step - loss: 0.1422 - accuracy: 0.9462 - val_loss: 0.1388 - val_accuracy: 0.9490\n",
            "Epoch 115/600\n",
            "5130/5130 [==============================] - 24s 5ms/step - loss: 0.1427 - accuracy: 0.9460 - val_loss: 0.1504 - val_accuracy: 0.9403\n",
            "Epoch 116/600\n",
            "5130/5130 [==============================] - 23s 4ms/step - loss: 0.1416 - accuracy: 0.9465 - val_loss: 0.1339 - val_accuracy: 0.9516\n",
            "Epoch 117/600\n",
            "5130/5130 [==============================] - 23s 5ms/step - loss: 0.1411 - accuracy: 0.9469 - val_loss: 0.1345 - val_accuracy: 0.9495\n",
            "Epoch 118/600\n",
            "5130/5130 [==============================] - 23s 4ms/step - loss: 0.1409 - accuracy: 0.9468 - val_loss: 0.1768 - val_accuracy: 0.9299\n",
            "Epoch 119/600\n",
            "5130/5130 [==============================] - 23s 5ms/step - loss: 0.1401 - accuracy: 0.9475 - val_loss: 0.1666 - val_accuracy: 0.9330\n",
            "Epoch 120/600\n",
            "5130/5130 [==============================] - 23s 4ms/step - loss: 0.1399 - accuracy: 0.9473 - val_loss: 0.1432 - val_accuracy: 0.9452\n",
            "Epoch 121/600\n",
            "5130/5130 [==============================] - 23s 4ms/step - loss: 0.1396 - accuracy: 0.9472 - val_loss: 0.1753 - val_accuracy: 0.9314\n",
            "Epoch 122/600\n",
            "5130/5130 [==============================] - 24s 5ms/step - loss: 0.1393 - accuracy: 0.9473 - val_loss: 0.1383 - val_accuracy: 0.9470\n",
            "Epoch 123/600\n",
            "5130/5130 [==============================] - 23s 4ms/step - loss: 0.1382 - accuracy: 0.9481 - val_loss: 0.3981 - val_accuracy: 0.8657\n",
            "Epoch 124/600\n",
            "5130/5130 [==============================] - 23s 5ms/step - loss: 0.1402 - accuracy: 0.9477 - val_loss: 0.1985 - val_accuracy: 0.9160\n",
            "Epoch 125/600\n",
            "5130/5130 [==============================] - 23s 4ms/step - loss: 0.1388 - accuracy: 0.9475 - val_loss: 0.1407 - val_accuracy: 0.9469\n",
            "Epoch 126/600\n",
            "5130/5130 [==============================] - 23s 4ms/step - loss: 0.1380 - accuracy: 0.9482 - val_loss: 0.1379 - val_accuracy: 0.9485\n",
            "Epoch 127/600\n",
            "5130/5130 [==============================] - 23s 5ms/step - loss: 0.1370 - accuracy: 0.9488 - val_loss: 0.1286 - val_accuracy: 0.9521\n",
            "Epoch 128/600\n",
            "5130/5130 [==============================] - 23s 4ms/step - loss: 0.1369 - accuracy: 0.9487 - val_loss: 0.1331 - val_accuracy: 0.9488\n",
            "Epoch 129/600\n",
            "5130/5130 [==============================] - 23s 5ms/step - loss: 0.1369 - accuracy: 0.9488 - val_loss: 0.3978 - val_accuracy: 0.8469\n",
            "Epoch 130/600\n",
            "5130/5130 [==============================] - 23s 5ms/step - loss: 0.1388 - accuracy: 0.9484 - val_loss: 0.1282 - val_accuracy: 0.9546\n",
            "Epoch 131/600\n",
            "5130/5130 [==============================] - 24s 5ms/step - loss: 0.1363 - accuracy: 0.9486 - val_loss: 0.1310 - val_accuracy: 0.9513\n",
            "Epoch 132/600\n",
            "5130/5130 [==============================] - 24s 5ms/step - loss: 0.1356 - accuracy: 0.9492 - val_loss: 0.1427 - val_accuracy: 0.9456\n",
            "Epoch 133/600\n",
            "5130/5130 [==============================] - 23s 5ms/step - loss: 0.1348 - accuracy: 0.9494 - val_loss: 0.3048 - val_accuracy: 0.8787\n",
            "Epoch 134/600\n",
            "5130/5130 [==============================] - 24s 5ms/step - loss: 0.1363 - accuracy: 0.9487 - val_loss: 0.1254 - val_accuracy: 0.9550\n",
            "Epoch 135/600\n",
            "5130/5130 [==============================] - 23s 5ms/step - loss: 0.1345 - accuracy: 0.9492 - val_loss: 0.1567 - val_accuracy: 0.9398\n",
            "Epoch 136/600\n",
            "5130/5130 [==============================] - 23s 5ms/step - loss: 0.1341 - accuracy: 0.9499 - val_loss: 0.1383 - val_accuracy: 0.9478\n",
            "Epoch 137/600\n",
            "5130/5130 [==============================] - 23s 5ms/step - loss: 0.1349 - accuracy: 0.9492 - val_loss: 0.1861 - val_accuracy: 0.9263\n",
            "Epoch 138/600\n",
            "5130/5130 [==============================] - 23s 5ms/step - loss: 0.1338 - accuracy: 0.9499 - val_loss: 0.1333 - val_accuracy: 0.9499\n",
            "Epoch 139/600\n",
            "5130/5130 [==============================] - 23s 5ms/step - loss: 0.1342 - accuracy: 0.9495 - val_loss: 0.1261 - val_accuracy: 0.9529\n",
            "Epoch 140/600\n",
            "5130/5130 [==============================] - 23s 5ms/step - loss: 0.1328 - accuracy: 0.9502 - val_loss: 0.1322 - val_accuracy: 0.9521\n",
            "Epoch 141/600\n",
            "5130/5130 [==============================] - 23s 4ms/step - loss: 0.1319 - accuracy: 0.9505 - val_loss: 0.1425 - val_accuracy: 0.9445\n",
            "Epoch 142/600\n",
            "5130/5130 [==============================] - 24s 5ms/step - loss: 0.1331 - accuracy: 0.9496 - val_loss: 0.1367 - val_accuracy: 0.9490\n",
            "Epoch 143/600\n",
            "5130/5130 [==============================] - 23s 4ms/step - loss: 0.1317 - accuracy: 0.9506 - val_loss: 0.1267 - val_accuracy: 0.9546\n",
            "Epoch 144/600\n",
            "5130/5130 [==============================] - 24s 5ms/step - loss: 0.1323 - accuracy: 0.9498 - val_loss: 0.1357 - val_accuracy: 0.9480\n",
            "Epoch 145/600\n",
            "5130/5130 [==============================] - 24s 5ms/step - loss: 0.1317 - accuracy: 0.9503 - val_loss: 0.1285 - val_accuracy: 0.9526\n",
            "Epoch 146/600\n",
            "5130/5130 [==============================] - 23s 5ms/step - loss: 0.1302 - accuracy: 0.9515 - val_loss: 0.1484 - val_accuracy: 0.9435\n",
            "Epoch 147/600\n",
            "5130/5130 [==============================] - 24s 5ms/step - loss: 0.1311 - accuracy: 0.9506 - val_loss: 0.1203 - val_accuracy: 0.9546\n",
            "Epoch 148/600\n",
            "5130/5130 [==============================] - 24s 5ms/step - loss: 0.1301 - accuracy: 0.9510 - val_loss: 0.1238 - val_accuracy: 0.9528\n",
            "Epoch 149/600\n",
            "5130/5130 [==============================] - 23s 4ms/step - loss: 0.1294 - accuracy: 0.9514 - val_loss: 0.1369 - val_accuracy: 0.9499\n",
            "Epoch 150/600\n",
            "5130/5130 [==============================] - 24s 5ms/step - loss: 0.1309 - accuracy: 0.9504 - val_loss: 0.1329 - val_accuracy: 0.9475\n",
            "Epoch 151/600\n",
            "5130/5130 [==============================] - 23s 4ms/step - loss: 0.1296 - accuracy: 0.9511 - val_loss: 0.1152 - val_accuracy: 0.9577\n",
            "Epoch 152/600\n",
            "5130/5130 [==============================] - 24s 5ms/step - loss: 0.1293 - accuracy: 0.9516 - val_loss: 0.1256 - val_accuracy: 0.9533\n",
            "Epoch 153/600\n",
            "5130/5130 [==============================] - 24s 5ms/step - loss: 0.1297 - accuracy: 0.9512 - val_loss: 0.1165 - val_accuracy: 0.9582\n",
            "Epoch 154/600\n",
            "5130/5130 [==============================] - 23s 4ms/step - loss: 0.1281 - accuracy: 0.9521 - val_loss: 0.1249 - val_accuracy: 0.9535\n",
            "Epoch 155/600\n",
            "5130/5130 [==============================] - 24s 5ms/step - loss: 0.1288 - accuracy: 0.9514 - val_loss: 0.1189 - val_accuracy: 0.9565\n",
            "Epoch 156/600\n",
            "5130/5130 [==============================] - 23s 5ms/step - loss: 0.1283 - accuracy: 0.9512 - val_loss: 0.1458 - val_accuracy: 0.9416\n",
            "Epoch 157/600\n",
            "5130/5130 [==============================] - 23s 5ms/step - loss: 0.1284 - accuracy: 0.9514 - val_loss: 0.1480 - val_accuracy: 0.9442\n",
            "Epoch 158/600\n",
            "5130/5130 [==============================] - 23s 5ms/step - loss: 0.1281 - accuracy: 0.9516 - val_loss: 0.1222 - val_accuracy: 0.9536\n",
            "Epoch 159/600\n",
            "5130/5130 [==============================] - 23s 5ms/step - loss: 0.1273 - accuracy: 0.9518 - val_loss: 0.1824 - val_accuracy: 0.9294\n",
            "Epoch 160/600\n",
            "5130/5130 [==============================] - 24s 5ms/step - loss: 0.1277 - accuracy: 0.9518 - val_loss: 0.1280 - val_accuracy: 0.9515\n",
            "Epoch 161/600\n",
            "5130/5130 [==============================] - 24s 5ms/step - loss: 0.1269 - accuracy: 0.9520 - val_loss: 0.1491 - val_accuracy: 0.9425\n",
            "Epoch 162/600\n",
            "5130/5130 [==============================] - 23s 4ms/step - loss: 0.1259 - accuracy: 0.9528 - val_loss: 0.1488 - val_accuracy: 0.9431\n",
            "Epoch 163/600\n",
            "5130/5130 [==============================] - 24s 5ms/step - loss: 0.1260 - accuracy: 0.9528 - val_loss: 0.1203 - val_accuracy: 0.9545\n",
            "Epoch 164/600\n",
            "5130/5130 [==============================] - 24s 5ms/step - loss: 0.1256 - accuracy: 0.9527 - val_loss: 0.1177 - val_accuracy: 0.9566\n",
            "Epoch 165/600\n",
            "5130/5130 [==============================] - 23s 5ms/step - loss: 0.1270 - accuracy: 0.9518 - val_loss: 0.1338 - val_accuracy: 0.9482\n",
            "Epoch 166/600\n",
            "5130/5130 [==============================] - 23s 5ms/step - loss: 0.1253 - accuracy: 0.9525 - val_loss: 0.1399 - val_accuracy: 0.9444\n",
            "Epoch 167/600\n",
            "5130/5130 [==============================] - 23s 5ms/step - loss: 0.1251 - accuracy: 0.9527 - val_loss: 0.1308 - val_accuracy: 0.9480\n",
            "Epoch 168/600\n",
            "5130/5130 [==============================] - 24s 5ms/step - loss: 0.1258 - accuracy: 0.9526 - val_loss: 0.1412 - val_accuracy: 0.9464\n",
            "Epoch 169/600\n",
            "5130/5130 [==============================] - 24s 5ms/step - loss: 0.1250 - accuracy: 0.9527 - val_loss: 0.1227 - val_accuracy: 0.9551\n",
            "Epoch 170/600\n",
            "5130/5130 [==============================] - 24s 5ms/step - loss: 0.1245 - accuracy: 0.9532 - val_loss: 0.1977 - val_accuracy: 0.9214\n",
            "Epoch 171/600\n",
            "5130/5130 [==============================] - 23s 5ms/step - loss: 0.1262 - accuracy: 0.9529 - val_loss: 0.1308 - val_accuracy: 0.9505\n",
            "Epoch 172/600\n",
            "5130/5130 [==============================] - 23s 4ms/step - loss: 0.1246 - accuracy: 0.9531 - val_loss: 0.1244 - val_accuracy: 0.9524\n",
            "Epoch 173/600\n",
            "5130/5130 [==============================] - 24s 5ms/step - loss: 0.1241 - accuracy: 0.9531 - val_loss: 0.2235 - val_accuracy: 0.9128\n",
            "Epoch 174/600\n",
            "5130/5130 [==============================] - 23s 5ms/step - loss: 0.1250 - accuracy: 0.9535 - val_loss: 0.1245 - val_accuracy: 0.9524\n",
            "Epoch 175/600\n",
            "5130/5130 [==============================] - 24s 5ms/step - loss: 0.1239 - accuracy: 0.9533 - val_loss: 0.1406 - val_accuracy: 0.9460\n",
            "Epoch 176/600\n",
            "5130/5130 [==============================] - 24s 5ms/step - loss: 0.1222 - accuracy: 0.9540 - val_loss: 0.1303 - val_accuracy: 0.9525\n",
            "Epoch 177/600\n",
            "5130/5130 [==============================] - 23s 5ms/step - loss: 0.1234 - accuracy: 0.9534 - val_loss: 0.1585 - val_accuracy: 0.9377\n",
            "Epoch 178/600\n",
            "5130/5130 [==============================] - 23s 5ms/step - loss: 0.1229 - accuracy: 0.9539 - val_loss: 0.1146 - val_accuracy: 0.9584\n",
            "Epoch 179/600\n",
            "5130/5130 [==============================] - 23s 5ms/step - loss: 0.1235 - accuracy: 0.9535 - val_loss: 0.1198 - val_accuracy: 0.9563\n",
            "Epoch 180/600\n",
            "5130/5130 [==============================] - 23s 5ms/step - loss: 0.1224 - accuracy: 0.9538 - val_loss: 0.1339 - val_accuracy: 0.9491\n",
            "Epoch 181/600\n",
            "5130/5130 [==============================] - 23s 4ms/step - loss: 0.1227 - accuracy: 0.9536 - val_loss: 0.1242 - val_accuracy: 0.9537\n",
            "Epoch 182/600\n",
            "5130/5130 [==============================] - 23s 5ms/step - loss: 0.1219 - accuracy: 0.9540 - val_loss: 0.1481 - val_accuracy: 0.9428\n",
            "Epoch 183/600\n",
            "5130/5130 [==============================] - 24s 5ms/step - loss: 0.1218 - accuracy: 0.9542 - val_loss: 0.1168 - val_accuracy: 0.9564\n",
            "Epoch 184/600\n",
            "5130/5130 [==============================] - 23s 5ms/step - loss: 0.1219 - accuracy: 0.9539 - val_loss: 0.1226 - val_accuracy: 0.9528\n",
            "Epoch 185/600\n",
            "5130/5130 [==============================] - 23s 5ms/step - loss: 0.1219 - accuracy: 0.9540 - val_loss: 0.1135 - val_accuracy: 0.9572\n",
            "Epoch 186/600\n",
            "5130/5130 [==============================] - 24s 5ms/step - loss: 0.1211 - accuracy: 0.9541 - val_loss: 0.1930 - val_accuracy: 0.9218\n",
            "Epoch 187/600\n",
            "5130/5130 [==============================] - 23s 5ms/step - loss: 0.1207 - accuracy: 0.9545 - val_loss: 0.1349 - val_accuracy: 0.9462\n",
            "Epoch 188/600\n",
            "5130/5130 [==============================] - 24s 5ms/step - loss: 0.1214 - accuracy: 0.9545 - val_loss: 0.1195 - val_accuracy: 0.9545\n",
            "Epoch 189/600\n",
            "5130/5130 [==============================] - 23s 4ms/step - loss: 0.1208 - accuracy: 0.9545 - val_loss: 0.1293 - val_accuracy: 0.9521\n",
            "Epoch 190/600\n",
            "5130/5130 [==============================] - 23s 4ms/step - loss: 0.1194 - accuracy: 0.9551 - val_loss: 0.1145 - val_accuracy: 0.9586\n",
            "Epoch 191/600\n",
            "5130/5130 [==============================] - 23s 5ms/step - loss: 0.1199 - accuracy: 0.9548 - val_loss: 0.1707 - val_accuracy: 0.9297\n",
            "Epoch 192/600\n",
            "5130/5130 [==============================] - 23s 5ms/step - loss: 0.1190 - accuracy: 0.9552 - val_loss: 0.1265 - val_accuracy: 0.9502\n",
            "Epoch 193/600\n",
            "5130/5130 [==============================] - 23s 5ms/step - loss: 0.1187 - accuracy: 0.9557 - val_loss: 0.1176 - val_accuracy: 0.9549\n",
            "Epoch 194/600\n",
            "5130/5130 [==============================] - 23s 5ms/step - loss: 0.1194 - accuracy: 0.9553 - val_loss: 0.1605 - val_accuracy: 0.9352\n",
            "Epoch 195/600\n",
            "5130/5130 [==============================] - 24s 5ms/step - loss: 0.1192 - accuracy: 0.9554 - val_loss: 0.1380 - val_accuracy: 0.9475\n",
            "Epoch 196/600\n",
            "5130/5130 [==============================] - 24s 5ms/step - loss: 0.1177 - accuracy: 0.9560 - val_loss: 0.1260 - val_accuracy: 0.9508\n",
            "Epoch 197/600\n",
            "5130/5130 [==============================] - 24s 5ms/step - loss: 0.1191 - accuracy: 0.9553 - val_loss: 0.1084 - val_accuracy: 0.9603\n",
            "Epoch 198/600\n",
            "5130/5130 [==============================] - 23s 5ms/step - loss: 0.1186 - accuracy: 0.9557 - val_loss: 0.1087 - val_accuracy: 0.9610\n",
            "Epoch 199/600\n",
            "5130/5130 [==============================] - 24s 5ms/step - loss: 0.1180 - accuracy: 0.9555 - val_loss: 0.1194 - val_accuracy: 0.9565\n",
            "Epoch 200/600\n",
            "5130/5130 [==============================] - 23s 5ms/step - loss: 0.1176 - accuracy: 0.9560 - val_loss: 0.1069 - val_accuracy: 0.9608\n",
            "Epoch 201/600\n",
            "5130/5130 [==============================] - 24s 5ms/step - loss: 0.1168 - accuracy: 0.9561 - val_loss: 0.1346 - val_accuracy: 0.9483\n",
            "Epoch 202/600\n",
            "5130/5130 [==============================] - 23s 5ms/step - loss: 0.1187 - accuracy: 0.9558 - val_loss: 0.1123 - val_accuracy: 0.9589\n",
            "Epoch 203/600\n",
            "5130/5130 [==============================] - 23s 5ms/step - loss: 0.1173 - accuracy: 0.9558 - val_loss: 0.1430 - val_accuracy: 0.9447\n",
            "Epoch 204/600\n",
            "5130/5130 [==============================] - 24s 5ms/step - loss: 0.1159 - accuracy: 0.9565 - val_loss: 0.1500 - val_accuracy: 0.9419\n",
            "Epoch 205/600\n",
            "5130/5130 [==============================] - 24s 5ms/step - loss: 0.1166 - accuracy: 0.9561 - val_loss: 0.1383 - val_accuracy: 0.9473\n",
            "Epoch 206/600\n",
            "5130/5130 [==============================] - 24s 5ms/step - loss: 0.1176 - accuracy: 0.9562 - val_loss: 0.1522 - val_accuracy: 0.9394\n",
            "Epoch 207/600\n",
            "5130/5130 [==============================] - 23s 5ms/step - loss: 0.1172 - accuracy: 0.9557 - val_loss: 0.1224 - val_accuracy: 0.9542\n",
            "Epoch 208/600\n",
            "5130/5130 [==============================] - 24s 5ms/step - loss: 0.1165 - accuracy: 0.9566 - val_loss: 0.2854 - val_accuracy: 0.8896\n",
            "Epoch 209/600\n",
            "5130/5130 [==============================] - 24s 5ms/step - loss: 0.1172 - accuracy: 0.9566 - val_loss: 0.1677 - val_accuracy: 0.9353\n",
            "Epoch 210/600\n",
            "5130/5130 [==============================] - 24s 5ms/step - loss: 0.1155 - accuracy: 0.9570 - val_loss: 0.1057 - val_accuracy: 0.9617\n",
            "Epoch 211/600\n",
            "5130/5130 [==============================] - 24s 5ms/step - loss: 0.1151 - accuracy: 0.9570 - val_loss: 0.1035 - val_accuracy: 0.9628\n",
            "Epoch 212/600\n",
            "5130/5130 [==============================] - 24s 5ms/step - loss: 0.1151 - accuracy: 0.9570 - val_loss: 0.1048 - val_accuracy: 0.9623\n",
            "Epoch 213/600\n",
            "5130/5130 [==============================] - 23s 5ms/step - loss: 0.1147 - accuracy: 0.9570 - val_loss: 0.1235 - val_accuracy: 0.9512\n",
            "Epoch 214/600\n",
            "5130/5130 [==============================] - 24s 5ms/step - loss: 0.1141 - accuracy: 0.9573 - val_loss: 0.1236 - val_accuracy: 0.9544\n",
            "Epoch 215/600\n",
            "5130/5130 [==============================] - 24s 5ms/step - loss: 0.1153 - accuracy: 0.9567 - val_loss: 0.1163 - val_accuracy: 0.9574\n",
            "Epoch 216/600\n",
            "5130/5130 [==============================] - 23s 5ms/step - loss: 0.1146 - accuracy: 0.9572 - val_loss: 0.1033 - val_accuracy: 0.9620\n",
            "Epoch 217/600\n",
            "5130/5130 [==============================] - 23s 5ms/step - loss: 0.1143 - accuracy: 0.9575 - val_loss: 0.1153 - val_accuracy: 0.9566\n",
            "Epoch 218/600\n",
            "5130/5130 [==============================] - 23s 5ms/step - loss: 0.1145 - accuracy: 0.9572 - val_loss: 0.1098 - val_accuracy: 0.9592\n",
            "Epoch 219/600\n",
            "5130/5130 [==============================] - 24s 5ms/step - loss: 0.1141 - accuracy: 0.9572 - val_loss: 0.1485 - val_accuracy: 0.9413\n",
            "Epoch 220/600\n",
            "5130/5130 [==============================] - 23s 5ms/step - loss: 0.1144 - accuracy: 0.9571 - val_loss: 0.1082 - val_accuracy: 0.9589\n",
            "Epoch 221/600\n",
            "5130/5130 [==============================] - 24s 5ms/step - loss: 0.1139 - accuracy: 0.9572 - val_loss: 0.1227 - val_accuracy: 0.9529\n",
            "Epoch 222/600\n",
            "5130/5130 [==============================] - 24s 5ms/step - loss: 0.1145 - accuracy: 0.9573 - val_loss: 0.1295 - val_accuracy: 0.9510\n",
            "Epoch 223/600\n",
            "5130/5130 [==============================] - 23s 5ms/step - loss: 0.1137 - accuracy: 0.9575 - val_loss: 0.2691 - val_accuracy: 0.8975\n",
            "Epoch 224/600\n",
            "5130/5130 [==============================] - 24s 5ms/step - loss: 0.1141 - accuracy: 0.9571 - val_loss: 0.1404 - val_accuracy: 0.9466\n",
            "Epoch 225/600\n",
            "5130/5130 [==============================] - 24s 5ms/step - loss: 0.1129 - accuracy: 0.9576 - val_loss: 0.1403 - val_accuracy: 0.9462\n",
            "Epoch 226/600\n",
            "5130/5130 [==============================] - 24s 5ms/step - loss: 0.1126 - accuracy: 0.9581 - val_loss: 0.2459 - val_accuracy: 0.9078\n",
            "Epoch 227/600\n",
            "5130/5130 [==============================] - 24s 5ms/step - loss: 0.1141 - accuracy: 0.9574 - val_loss: 0.1298 - val_accuracy: 0.9493\n",
            "Epoch 228/600\n",
            "5130/5130 [==============================] - 23s 5ms/step - loss: 0.1125 - accuracy: 0.9579 - val_loss: 0.1012 - val_accuracy: 0.9630\n",
            "Epoch 229/600\n",
            "5130/5130 [==============================] - 24s 5ms/step - loss: 0.1117 - accuracy: 0.9582 - val_loss: 0.1306 - val_accuracy: 0.9491\n",
            "Epoch 230/600\n",
            "5130/5130 [==============================] - 24s 5ms/step - loss: 0.1129 - accuracy: 0.9579 - val_loss: 0.1042 - val_accuracy: 0.9628\n",
            "Epoch 231/600\n",
            "5130/5130 [==============================] - 23s 5ms/step - loss: 0.1117 - accuracy: 0.9584 - val_loss: 0.1400 - val_accuracy: 0.9444\n",
            "Epoch 232/600\n",
            "5130/5130 [==============================] - 24s 5ms/step - loss: 0.1128 - accuracy: 0.9576 - val_loss: 0.1126 - val_accuracy: 0.9561\n",
            "Epoch 233/600\n",
            "5130/5130 [==============================] - 23s 5ms/step - loss: 0.1122 - accuracy: 0.9579 - val_loss: 0.1212 - val_accuracy: 0.9518\n",
            "Epoch 234/600\n",
            "5130/5130 [==============================] - 24s 5ms/step - loss: 0.1116 - accuracy: 0.9585 - val_loss: 0.1521 - val_accuracy: 0.9416\n",
            "Epoch 235/600\n",
            "5130/5130 [==============================] - 24s 5ms/step - loss: 0.1117 - accuracy: 0.9579 - val_loss: 0.1091 - val_accuracy: 0.9590\n",
            "Epoch 236/600\n",
            "5130/5130 [==============================] - 24s 5ms/step - loss: 0.1116 - accuracy: 0.9582 - val_loss: 0.1233 - val_accuracy: 0.9554\n",
            "Epoch 237/600\n",
            "5130/5130 [==============================] - 24s 5ms/step - loss: 0.1115 - accuracy: 0.9584 - val_loss: 0.1159 - val_accuracy: 0.9564\n",
            "Epoch 238/600\n",
            "5130/5130 [==============================] - 24s 5ms/step - loss: 0.1113 - accuracy: 0.9584 - val_loss: 0.1051 - val_accuracy: 0.9617\n",
            "Epoch 239/600\n",
            "5130/5130 [==============================] - 23s 5ms/step - loss: 0.1107 - accuracy: 0.9589 - val_loss: 0.1039 - val_accuracy: 0.9609\n",
            "Epoch 240/600\n",
            "5130/5130 [==============================] - 23s 5ms/step - loss: 0.1111 - accuracy: 0.9583 - val_loss: 0.1084 - val_accuracy: 0.9592\n",
            "Epoch 241/600\n",
            "5130/5130 [==============================] - 24s 5ms/step - loss: 0.1115 - accuracy: 0.9583 - val_loss: 0.1104 - val_accuracy: 0.9595\n",
            "Epoch 242/600\n",
            "5130/5130 [==============================] - 24s 5ms/step - loss: 0.1108 - accuracy: 0.9586 - val_loss: 0.1187 - val_accuracy: 0.9549\n",
            "Epoch 243/600\n",
            "5130/5130 [==============================] - 24s 5ms/step - loss: 0.1113 - accuracy: 0.9584 - val_loss: 0.1038 - val_accuracy: 0.9618\n",
            "Epoch 244/600\n",
            "5130/5130 [==============================] - 24s 5ms/step - loss: 0.1098 - accuracy: 0.9590 - val_loss: 0.1271 - val_accuracy: 0.9519\n",
            "Epoch 245/600\n",
            "5130/5130 [==============================] - 23s 5ms/step - loss: 0.1102 - accuracy: 0.9590 - val_loss: 0.1046 - val_accuracy: 0.9616\n",
            "Epoch 246/600\n",
            "5130/5130 [==============================] - 23s 5ms/step - loss: 0.1097 - accuracy: 0.9592 - val_loss: 0.1008 - val_accuracy: 0.9638\n",
            "Epoch 247/600\n",
            "5130/5130 [==============================] - 24s 5ms/step - loss: 0.1096 - accuracy: 0.9591 - val_loss: 0.0986 - val_accuracy: 0.9647\n",
            "Epoch 248/600\n",
            "5130/5130 [==============================] - 24s 5ms/step - loss: 0.1106 - accuracy: 0.9586 - val_loss: 0.1185 - val_accuracy: 0.9529\n",
            "Epoch 249/600\n",
            "5130/5130 [==============================] - 24s 5ms/step - loss: 0.1099 - accuracy: 0.9590 - val_loss: 0.1204 - val_accuracy: 0.9545\n",
            "Epoch 250/600\n",
            "5130/5130 [==============================] - 24s 5ms/step - loss: 0.1100 - accuracy: 0.9586 - val_loss: 0.1024 - val_accuracy: 0.9637\n",
            "Epoch 251/600\n",
            "5130/5130 [==============================] - 24s 5ms/step - loss: 0.1094 - accuracy: 0.9593 - val_loss: 0.1115 - val_accuracy: 0.9566\n",
            "Epoch 252/600\n",
            "5130/5130 [==============================] - 24s 5ms/step - loss: 0.1099 - accuracy: 0.9587 - val_loss: 0.1022 - val_accuracy: 0.9620\n",
            "Epoch 253/600\n",
            "5130/5130 [==============================] - 24s 5ms/step - loss: 0.1087 - accuracy: 0.9597 - val_loss: 0.1141 - val_accuracy: 0.9572\n",
            "Epoch 254/600\n",
            "5130/5130 [==============================] - 25s 5ms/step - loss: 0.1089 - accuracy: 0.9596 - val_loss: 0.1198 - val_accuracy: 0.9530\n",
            "Epoch 255/600\n",
            "5130/5130 [==============================] - 24s 5ms/step - loss: 0.1085 - accuracy: 0.9595 - val_loss: 0.1187 - val_accuracy: 0.9567\n",
            "Epoch 256/600\n",
            "5130/5130 [==============================] - 27s 5ms/step - loss: 0.1096 - accuracy: 0.9592 - val_loss: 0.1209 - val_accuracy: 0.9556\n",
            "Epoch 257/600\n",
            "5130/5130 [==============================] - 24s 5ms/step - loss: 0.1082 - accuracy: 0.9597 - val_loss: 0.1238 - val_accuracy: 0.9524\n",
            "Epoch 258/600\n",
            "5130/5130 [==============================] - 24s 5ms/step - loss: 0.1087 - accuracy: 0.9595 - val_loss: 0.1523 - val_accuracy: 0.9395\n",
            "Epoch 259/600\n",
            "5130/5130 [==============================] - 24s 5ms/step - loss: 0.1103 - accuracy: 0.9590 - val_loss: 0.1182 - val_accuracy: 0.9556\n",
            "Epoch 260/600\n",
            "5130/5130 [==============================] - 24s 5ms/step - loss: 0.1088 - accuracy: 0.9590 - val_loss: 0.0968 - val_accuracy: 0.9655\n",
            "Epoch 261/600\n",
            "5130/5130 [==============================] - 24s 5ms/step - loss: 0.1089 - accuracy: 0.9596 - val_loss: 0.1252 - val_accuracy: 0.9521\n",
            "Epoch 262/600\n",
            "5130/5130 [==============================] - 25s 5ms/step - loss: 0.1072 - accuracy: 0.9601 - val_loss: 0.1660 - val_accuracy: 0.9384\n",
            "Epoch 263/600\n",
            "5130/5130 [==============================] - 24s 5ms/step - loss: 0.1088 - accuracy: 0.9596 - val_loss: 0.1082 - val_accuracy: 0.9608\n",
            "Epoch 264/600\n",
            "5130/5130 [==============================] - 24s 5ms/step - loss: 0.1082 - accuracy: 0.9596 - val_loss: 0.1026 - val_accuracy: 0.9626\n",
            "Epoch 265/600\n",
            "5130/5130 [==============================] - 24s 5ms/step - loss: 0.1083 - accuracy: 0.9599 - val_loss: 0.1492 - val_accuracy: 0.9444\n",
            "Epoch 266/600\n",
            "5130/5130 [==============================] - 24s 5ms/step - loss: 0.1077 - accuracy: 0.9600 - val_loss: 0.1159 - val_accuracy: 0.9548\n",
            "Epoch 267/600\n",
            "5130/5130 [==============================] - 25s 5ms/step - loss: 0.1080 - accuracy: 0.9597 - val_loss: 0.0973 - val_accuracy: 0.9638\n",
            "Epoch 268/600\n",
            "5130/5130 [==============================] - 24s 5ms/step - loss: 0.1078 - accuracy: 0.9598 - val_loss: 0.1193 - val_accuracy: 0.9546\n",
            "Epoch 269/600\n",
            "5130/5130 [==============================] - 24s 5ms/step - loss: 0.1074 - accuracy: 0.9600 - val_loss: 0.0992 - val_accuracy: 0.9643\n",
            "Epoch 270/600\n",
            "5130/5130 [==============================] - 24s 5ms/step - loss: 0.1078 - accuracy: 0.9600 - val_loss: 0.1088 - val_accuracy: 0.9577\n",
            "Epoch 271/600\n",
            "5130/5130 [==============================] - 24s 5ms/step - loss: 0.1084 - accuracy: 0.9597 - val_loss: 0.1627 - val_accuracy: 0.9428\n",
            "Epoch 272/600\n",
            "5130/5130 [==============================] - 25s 5ms/step - loss: 0.1075 - accuracy: 0.9598 - val_loss: 0.1035 - val_accuracy: 0.9625\n",
            "Epoch 272: early stopping\n"
          ]
        }
      ],
      "source": [
        "model = create_model()\n",
        "history = model.fit(X_train, y_train, batch_size=64,\n",
        "          epochs=600, verbose = 1,\n",
        "          validation_data=(X_test, y_test),\n",
        "          callbacks = [early_stop])"
      ]
    },
    {
      "cell_type": "code",
      "execution_count": null,
      "metadata": {
        "id": "s-D8u5HQBfKJ",
        "colab": {
          "base_uri": "https://localhost:8080/"
        },
        "outputId": "682a4b97-713b-4aba-dc28-1e0991d9318f"
      },
      "outputs": [
        {
          "output_type": "stream",
          "name": "stdout",
          "text": [
            "10259/10259 [==============================] - 17s 2ms/step - loss: 0.1016 - accuracy: 0.9632\n",
            "Loss: 0.10163738578557968  Accuracy: 0.9631995558738708\n"
          ]
        }
      ],
      "source": [
        "loss, accuracy = model.evaluate(X_train, y_train)\n",
        "print(\"Loss:\", loss, \" Accuracy:\", accuracy)"
      ]
    },
    {
      "cell_type": "code",
      "source": [
        "pred = model.predict(X_test)\n",
        "pred_y = pred.argmax(axis=-1)\n",
        "\n",
        "from sklearn.metrics import confusion_matrix\n",
        "cm = confusion_matrix(y_test, pred_y)"
      ],
      "metadata": {
        "id": "ZCsDP2wuUq4X"
      },
      "execution_count": null,
      "outputs": []
    },
    {
      "cell_type": "code",
      "source": [
        "print(cm)\n",
        "sns.heatmap(cm.T, annot=True, cbar = False);"
      ],
      "metadata": {
        "id": "w2UY8kW-I6Pl",
        "colab": {
          "base_uri": "https://localhost:8080/",
          "height": 317
        },
        "outputId": "097e16e2-d100-4883-82d8-9a2d58ca114c"
      },
      "execution_count": null,
      "outputs": [
        {
          "output_type": "stream",
          "name": "stdout",
          "text": [
            "[[22703   305   205]\n",
            " [ 1458 42517   645]\n",
            " [  277   185 13770]]\n"
          ]
        },
        {
          "output_type": "display_data",
          "data": {
            "text/plain": [
              "<Figure size 432x288 with 1 Axes>"
            ],
            "image/png": "[encoded data removed]"
          },
          "metadata": {
            "needs_background": "light"
          }
        }
      ]
    },
    {
      "cell_type": "code",
      "execution_count": null,
      "metadata": {
        "id": "dCygLMl5y1hM",
        "colab": {
          "base_uri": "https://localhost:8080/"
        },
        "outputId": "03c399f7-c55d-43d1-c299-0289f92d7ee8"
      },
      "outputs": [
        {
          "output_type": "stream",
          "name": "stdout",
          "text": [
            "              precision    recall  f1-score   support\n",
            "\n",
            "           0       0.93      0.98      0.95     23213\n",
            "           1       0.99      0.95      0.97     44620\n",
            "           2       0.94      0.97      0.95     14232\n",
            "\n",
            "    accuracy                           0.96     82065\n",
            "   macro avg       0.95      0.97      0.96     82065\n",
            "weighted avg       0.96      0.96      0.96     82065\n",
            "\n"
          ]
        }
      ],
      "source": [
        "from sklearn.metrics import classification_report\n",
        "print(classification_report(y_test, pred_y))"
      ]
    },
    {
      "cell_type": "code",
      "execution_count": null,
      "metadata": {
        "id": "KXMu9M1eSzOA",
        "colab": {
          "base_uri": "https://localhost:8080/",
          "height": 265
        },
        "outputId": "d880cd39-0867-44e5-9f2e-f7019aab137d"
      },
      "outputs": [
        {
          "output_type": "display_data",
          "data": {
            "text/plain": [
              "<Figure size 432x288 with 1 Axes>"
            ],
            "image/png": "[encoded data removed]"
          },
          "metadata": {
            "needs_background": "light"
          }
        }
      ],
      "source": [
        "history_df = pd.DataFrame(history.history)\n",
        "history_df[['accuracy','val_accuracy']].plot();"
      ]
    },
    {
      "cell_type": "code",
      "source": [
        "pred = model.predict(X_test[:30])\n",
        "pred_y = pred.argmax(axis=-1)\n",
        "print('Predicted:',pred_y)\n",
        "print('Actual:   ',y_test[:30])"
      ],
      "metadata": {
        "id": "XZuvm2tINub_",
        "colab": {
          "base_uri": "https://localhost:8080/"
        },
        "outputId": "cc9b11ec-d5f0-448f-df00-93839e58f957"
      },
      "execution_count": null,
      "outputs": [
        {
          "output_type": "stream",
          "name": "stdout",
          "text": [
            "Predicted: [1 0 1 1 0 1 2 2 0 1 0 1 1 2 2 1 1 1 0 2 1 1 1 0 1 0 1 0 1 0]\n",
            "Actual:    [1 0 1 1 0 1 2 2 0 1 0 1 1 2 2 1 1 1 0 2 1 1 1 0 1 0 1 0 1 0]\n"
          ]
        }
      ]
    },
    {
      "cell_type": "code",
      "source": [
        "model.summary()"
      ],
      "metadata": {
        "id": "Jg1rNbC0T4rp",
        "colab": {
          "base_uri": "https://localhost:8080/"
        },
        "outputId": "0b16292d-c739-438b-c697-929132752229"
      },
      "execution_count": null,
      "outputs": [
        {
          "output_type": "stream",
          "name": "stdout",
          "text": [
            "Model: \"sequential_1\"\n",
            "_________________________________________________________________\n",
            " Layer (type)                Output Shape              Param #   \n",
            "=================================================================\n",
            " conv1d_1 (Conv1D)           (None, 33, 64)            192       \n",
            "                                                                 \n",
            " dense_2 (Dense)             (None, 33, 16)            1040      \n",
            "                                                                 \n",
            " max_pooling1d_1 (MaxPooling  (None, 16, 16)           0         \n",
            " 1D)                                                             \n",
            "                                                                 \n",
            " flatten_1 (Flatten)         (None, 256)               0         \n",
            "                                                                 \n",
            " dense_3 (Dense)             (None, 3)                 771       \n",
            "                                                                 \n",
            "=================================================================\n",
            "Total params: 2,003\n",
            "Trainable params: 2,003\n",
            "Non-trainable params: 0\n",
            "_________________________________________________________________\n"
          ]
        }
      ]
    }
  ],
  "metadata": {
    "colab": {
      "collapsed_sections": [
        "nCgplmF3T_9D",
        "HJ51-rz6VKTV",
        "fjHH659rVehY",
        "upjsWEsMYJg-"
      ],
      "name": "SWELL-1D-CNN.ipynb",
      "provenance": [],
      "include_colab_link": true
    },
    "kernelspec": {
      "display_name": "Python 3 (ipykernel)",
      "language": "python",
      "name": "python3"
    },
    "language_info": {
      "codemirror_mode": {
        "name": "ipython",
        "version": 3
      },
      "file_extension": ".py",
      "mimetype": "text/x-python",
      "name": "python",
      "nbconvert_exporter": "python",
      "pygments_lexer": "ipython3",
      "version": "3.10.2"
    }
  },
  "nbformat": 4,
  "nbformat_minor": 0
}